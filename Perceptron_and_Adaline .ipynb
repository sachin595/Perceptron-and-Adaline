{
 "cells": [
  {
   "cell_type": "markdown",
   "id": "98e76f4d",
   "metadata": {},
   "source": [
    "# Neural Networks \n",
    "# Perceptron and Adaline"
   ]
  },
  {
   "cell_type": "markdown",
   "id": "8578f255",
   "metadata": {},
   "source": [
    "## Training Set  P1-P25"
   ]
  },
  {
   "cell_type": "code",
   "execution_count": 1,
   "id": "9883cec9",
   "metadata": {},
   "outputs": [
    {
     "data": {
      "text/html": [
       "<div>\n",
       "<style scoped>\n",
       "    .dataframe tbody tr th:only-of-type {\n",
       "        vertical-align: middle;\n",
       "    }\n",
       "\n",
       "    .dataframe tbody tr th {\n",
       "        vertical-align: top;\n",
       "    }\n",
       "\n",
       "    .dataframe thead th {\n",
       "        text-align: right;\n",
       "    }\n",
       "</style>\n",
       "<table border=\"1\" class=\"dataframe\">\n",
       "  <thead>\n",
       "    <tr style=\"text-align: right;\">\n",
       "      <th></th>\n",
       "      <th>P1</th>\n",
       "      <th>P2</th>\n",
       "      <th>P3</th>\n",
       "      <th>P4</th>\n",
       "      <th>P5</th>\n",
       "      <th>P6</th>\n",
       "      <th>P7</th>\n",
       "      <th>P8</th>\n",
       "      <th>P9</th>\n",
       "      <th>P10</th>\n",
       "      <th>...</th>\n",
       "      <th>P16</th>\n",
       "      <th>P17</th>\n",
       "      <th>P18</th>\n",
       "      <th>P19</th>\n",
       "      <th>P20</th>\n",
       "      <th>P21</th>\n",
       "      <th>P22</th>\n",
       "      <th>P23</th>\n",
       "      <th>P24</th>\n",
       "      <th>P25</th>\n",
       "    </tr>\n",
       "  </thead>\n",
       "  <tbody>\n",
       "    <tr>\n",
       "      <th>0</th>\n",
       "      <td>-1</td>\n",
       "      <td>-1</td>\n",
       "      <td>-1</td>\n",
       "      <td>-1</td>\n",
       "      <td>-1</td>\n",
       "      <td>1</td>\n",
       "      <td>1</td>\n",
       "      <td>1</td>\n",
       "      <td>1</td>\n",
       "      <td>1</td>\n",
       "      <td>...</td>\n",
       "      <td>1</td>\n",
       "      <td>1</td>\n",
       "      <td>1</td>\n",
       "      <td>1</td>\n",
       "      <td>1</td>\n",
       "      <td>1</td>\n",
       "      <td>1</td>\n",
       "      <td>1</td>\n",
       "      <td>1</td>\n",
       "      <td>1</td>\n",
       "    </tr>\n",
       "    <tr>\n",
       "      <th>1</th>\n",
       "      <td>-1</td>\n",
       "      <td>-1</td>\n",
       "      <td>-1</td>\n",
       "      <td>-1</td>\n",
       "      <td>-1</td>\n",
       "      <td>1</td>\n",
       "      <td>1</td>\n",
       "      <td>1</td>\n",
       "      <td>1</td>\n",
       "      <td>1</td>\n",
       "      <td>...</td>\n",
       "      <td>1</td>\n",
       "      <td>1</td>\n",
       "      <td>1</td>\n",
       "      <td>1</td>\n",
       "      <td>1</td>\n",
       "      <td>1</td>\n",
       "      <td>1</td>\n",
       "      <td>1</td>\n",
       "      <td>1</td>\n",
       "      <td>1</td>\n",
       "    </tr>\n",
       "    <tr>\n",
       "      <th>2</th>\n",
       "      <td>1</td>\n",
       "      <td>1</td>\n",
       "      <td>1</td>\n",
       "      <td>1</td>\n",
       "      <td>1</td>\n",
       "      <td>1</td>\n",
       "      <td>1</td>\n",
       "      <td>1</td>\n",
       "      <td>1</td>\n",
       "      <td>1</td>\n",
       "      <td>...</td>\n",
       "      <td>1</td>\n",
       "      <td>1</td>\n",
       "      <td>1</td>\n",
       "      <td>1</td>\n",
       "      <td>1</td>\n",
       "      <td>1</td>\n",
       "      <td>1</td>\n",
       "      <td>1</td>\n",
       "      <td>1</td>\n",
       "      <td>1</td>\n",
       "    </tr>\n",
       "    <tr>\n",
       "      <th>3</th>\n",
       "      <td>1</td>\n",
       "      <td>1</td>\n",
       "      <td>1</td>\n",
       "      <td>1</td>\n",
       "      <td>1</td>\n",
       "      <td>1</td>\n",
       "      <td>1</td>\n",
       "      <td>1</td>\n",
       "      <td>1</td>\n",
       "      <td>1</td>\n",
       "      <td>...</td>\n",
       "      <td>1</td>\n",
       "      <td>1</td>\n",
       "      <td>1</td>\n",
       "      <td>1</td>\n",
       "      <td>1</td>\n",
       "      <td>1</td>\n",
       "      <td>1</td>\n",
       "      <td>1</td>\n",
       "      <td>1</td>\n",
       "      <td>1</td>\n",
       "    </tr>\n",
       "    <tr>\n",
       "      <th>4</th>\n",
       "      <td>-1</td>\n",
       "      <td>1</td>\n",
       "      <td>-1</td>\n",
       "      <td>-1</td>\n",
       "      <td>-1</td>\n",
       "      <td>1</td>\n",
       "      <td>1</td>\n",
       "      <td>1</td>\n",
       "      <td>1</td>\n",
       "      <td>1</td>\n",
       "      <td>...</td>\n",
       "      <td>1</td>\n",
       "      <td>1</td>\n",
       "      <td>1</td>\n",
       "      <td>1</td>\n",
       "      <td>1</td>\n",
       "      <td>-1</td>\n",
       "      <td>1</td>\n",
       "      <td>-1</td>\n",
       "      <td>-1</td>\n",
       "      <td>-1</td>\n",
       "    </tr>\n",
       "    <tr>\n",
       "      <th>5</th>\n",
       "      <td>1</td>\n",
       "      <td>1</td>\n",
       "      <td>1</td>\n",
       "      <td>1</td>\n",
       "      <td>1</td>\n",
       "      <td>-1</td>\n",
       "      <td>1</td>\n",
       "      <td>-1</td>\n",
       "      <td>-1</td>\n",
       "      <td>-1</td>\n",
       "      <td>...</td>\n",
       "      <td>-1</td>\n",
       "      <td>1</td>\n",
       "      <td>-1</td>\n",
       "      <td>-1</td>\n",
       "      <td>-1</td>\n",
       "      <td>-1</td>\n",
       "      <td>-1</td>\n",
       "      <td>-1</td>\n",
       "      <td>-1</td>\n",
       "      <td>-1</td>\n",
       "    </tr>\n",
       "    <tr>\n",
       "      <th>6</th>\n",
       "      <td>1</td>\n",
       "      <td>1</td>\n",
       "      <td>1</td>\n",
       "      <td>1</td>\n",
       "      <td>1</td>\n",
       "      <td>1</td>\n",
       "      <td>1</td>\n",
       "      <td>1</td>\n",
       "      <td>1</td>\n",
       "      <td>1</td>\n",
       "      <td>...</td>\n",
       "      <td>-1</td>\n",
       "      <td>-1</td>\n",
       "      <td>-1</td>\n",
       "      <td>1</td>\n",
       "      <td>-1</td>\n",
       "      <td>-1</td>\n",
       "      <td>-1</td>\n",
       "      <td>-1</td>\n",
       "      <td>1</td>\n",
       "      <td>-1</td>\n",
       "    </tr>\n",
       "    <tr>\n",
       "      <th>7</th>\n",
       "      <td>-1</td>\n",
       "      <td>-1</td>\n",
       "      <td>-1</td>\n",
       "      <td>-1</td>\n",
       "      <td>-1</td>\n",
       "      <td>1</td>\n",
       "      <td>1</td>\n",
       "      <td>1</td>\n",
       "      <td>1</td>\n",
       "      <td>1</td>\n",
       "      <td>...</td>\n",
       "      <td>1</td>\n",
       "      <td>1</td>\n",
       "      <td>1</td>\n",
       "      <td>1</td>\n",
       "      <td>1</td>\n",
       "      <td>1</td>\n",
       "      <td>1</td>\n",
       "      <td>1</td>\n",
       "      <td>1</td>\n",
       "      <td>1</td>\n",
       "    </tr>\n",
       "    <tr>\n",
       "      <th>8</th>\n",
       "      <td>1</td>\n",
       "      <td>1</td>\n",
       "      <td>1</td>\n",
       "      <td>1</td>\n",
       "      <td>1</td>\n",
       "      <td>1</td>\n",
       "      <td>1</td>\n",
       "      <td>1</td>\n",
       "      <td>1</td>\n",
       "      <td>1</td>\n",
       "      <td>...</td>\n",
       "      <td>1</td>\n",
       "      <td>1</td>\n",
       "      <td>1</td>\n",
       "      <td>1</td>\n",
       "      <td>1</td>\n",
       "      <td>-1</td>\n",
       "      <td>-1</td>\n",
       "      <td>-1</td>\n",
       "      <td>-1</td>\n",
       "      <td>-1</td>\n",
       "    </tr>\n",
       "    <tr>\n",
       "      <th>9</th>\n",
       "      <td>-1</td>\n",
       "      <td>-1</td>\n",
       "      <td>1</td>\n",
       "      <td>-1</td>\n",
       "      <td>-1</td>\n",
       "      <td>-1</td>\n",
       "      <td>-1</td>\n",
       "      <td>-1</td>\n",
       "      <td>-1</td>\n",
       "      <td>-1</td>\n",
       "      <td>...</td>\n",
       "      <td>-1</td>\n",
       "      <td>-1</td>\n",
       "      <td>-1</td>\n",
       "      <td>-1</td>\n",
       "      <td>-1</td>\n",
       "      <td>-1</td>\n",
       "      <td>-1</td>\n",
       "      <td>-1</td>\n",
       "      <td>-1</td>\n",
       "      <td>-1</td>\n",
       "    </tr>\n",
       "    <tr>\n",
       "      <th>10</th>\n",
       "      <td>1</td>\n",
       "      <td>1</td>\n",
       "      <td>1</td>\n",
       "      <td>1</td>\n",
       "      <td>1</td>\n",
       "      <td>1</td>\n",
       "      <td>1</td>\n",
       "      <td>1</td>\n",
       "      <td>1</td>\n",
       "      <td>1</td>\n",
       "      <td>...</td>\n",
       "      <td>-1</td>\n",
       "      <td>-1</td>\n",
       "      <td>-1</td>\n",
       "      <td>-1</td>\n",
       "      <td>-1</td>\n",
       "      <td>-1</td>\n",
       "      <td>-1</td>\n",
       "      <td>-1</td>\n",
       "      <td>-1</td>\n",
       "      <td>-1</td>\n",
       "    </tr>\n",
       "    <tr>\n",
       "      <th>11</th>\n",
       "      <td>-1</td>\n",
       "      <td>-1</td>\n",
       "      <td>-1</td>\n",
       "      <td>1</td>\n",
       "      <td>-1</td>\n",
       "      <td>1</td>\n",
       "      <td>1</td>\n",
       "      <td>1</td>\n",
       "      <td>1</td>\n",
       "      <td>1</td>\n",
       "      <td>...</td>\n",
       "      <td>1</td>\n",
       "      <td>1</td>\n",
       "      <td>1</td>\n",
       "      <td>1</td>\n",
       "      <td>1</td>\n",
       "      <td>1</td>\n",
       "      <td>1</td>\n",
       "      <td>1</td>\n",
       "      <td>1</td>\n",
       "      <td>1</td>\n",
       "    </tr>\n",
       "    <tr>\n",
       "      <th>12</th>\n",
       "      <td>-1</td>\n",
       "      <td>-1</td>\n",
       "      <td>-1</td>\n",
       "      <td>-1</td>\n",
       "      <td>-1</td>\n",
       "      <td>1</td>\n",
       "      <td>1</td>\n",
       "      <td>1</td>\n",
       "      <td>1</td>\n",
       "      <td>1</td>\n",
       "      <td>...</td>\n",
       "      <td>1</td>\n",
       "      <td>1</td>\n",
       "      <td>1</td>\n",
       "      <td>1</td>\n",
       "      <td>1</td>\n",
       "      <td>-1</td>\n",
       "      <td>-1</td>\n",
       "      <td>1</td>\n",
       "      <td>-1</td>\n",
       "      <td>-1</td>\n",
       "    </tr>\n",
       "    <tr>\n",
       "      <th>13</th>\n",
       "      <td>1</td>\n",
       "      <td>1</td>\n",
       "      <td>1</td>\n",
       "      <td>1</td>\n",
       "      <td>1</td>\n",
       "      <td>-1</td>\n",
       "      <td>-1</td>\n",
       "      <td>1</td>\n",
       "      <td>-1</td>\n",
       "      <td>-1</td>\n",
       "      <td>...</td>\n",
       "      <td>-1</td>\n",
       "      <td>-1</td>\n",
       "      <td>1</td>\n",
       "      <td>-1</td>\n",
       "      <td>-1</td>\n",
       "      <td>-1</td>\n",
       "      <td>-1</td>\n",
       "      <td>-1</td>\n",
       "      <td>-1</td>\n",
       "      <td>-1</td>\n",
       "    </tr>\n",
       "    <tr>\n",
       "      <th>14</th>\n",
       "      <td>1</td>\n",
       "      <td>1</td>\n",
       "      <td>1</td>\n",
       "      <td>1</td>\n",
       "      <td>1</td>\n",
       "      <td>-1</td>\n",
       "      <td>-1</td>\n",
       "      <td>-1</td>\n",
       "      <td>-1</td>\n",
       "      <td>1</td>\n",
       "      <td>...</td>\n",
       "      <td>-1</td>\n",
       "      <td>-1</td>\n",
       "      <td>-1</td>\n",
       "      <td>-1</td>\n",
       "      <td>1</td>\n",
       "      <td>-1</td>\n",
       "      <td>-1</td>\n",
       "      <td>-1</td>\n",
       "      <td>-1</td>\n",
       "      <td>1</td>\n",
       "    </tr>\n",
       "    <tr>\n",
       "      <th>15</th>\n",
       "      <td>-1</td>\n",
       "      <td>-1</td>\n",
       "      <td>-1</td>\n",
       "      <td>-1</td>\n",
       "      <td>1</td>\n",
       "      <td>1</td>\n",
       "      <td>1</td>\n",
       "      <td>1</td>\n",
       "      <td>1</td>\n",
       "      <td>1</td>\n",
       "      <td>...</td>\n",
       "      <td>1</td>\n",
       "      <td>1</td>\n",
       "      <td>1</td>\n",
       "      <td>1</td>\n",
       "      <td>1</td>\n",
       "      <td>1</td>\n",
       "      <td>1</td>\n",
       "      <td>1</td>\n",
       "      <td>1</td>\n",
       "      <td>1</td>\n",
       "    </tr>\n",
       "    <tr>\n",
       "      <th>16</th>\n",
       "      <td>-1</td>\n",
       "      <td>-1</td>\n",
       "      <td>-1</td>\n",
       "      <td>-1</td>\n",
       "      <td>-1</td>\n",
       "      <td>1</td>\n",
       "      <td>1</td>\n",
       "      <td>1</td>\n",
       "      <td>1</td>\n",
       "      <td>1</td>\n",
       "      <td>...</td>\n",
       "      <td>1</td>\n",
       "      <td>1</td>\n",
       "      <td>1</td>\n",
       "      <td>1</td>\n",
       "      <td>1</td>\n",
       "      <td>1</td>\n",
       "      <td>1</td>\n",
       "      <td>1</td>\n",
       "      <td>1</td>\n",
       "      <td>1</td>\n",
       "    </tr>\n",
       "    <tr>\n",
       "      <th>17</th>\n",
       "      <td>-1</td>\n",
       "      <td>-1</td>\n",
       "      <td>-1</td>\n",
       "      <td>-1</td>\n",
       "      <td>-1</td>\n",
       "      <td>-1</td>\n",
       "      <td>-1</td>\n",
       "      <td>-1</td>\n",
       "      <td>-1</td>\n",
       "      <td>-1</td>\n",
       "      <td>...</td>\n",
       "      <td>1</td>\n",
       "      <td>1</td>\n",
       "      <td>1</td>\n",
       "      <td>1</td>\n",
       "      <td>1</td>\n",
       "      <td>1</td>\n",
       "      <td>1</td>\n",
       "      <td>1</td>\n",
       "      <td>1</td>\n",
       "      <td>1</td>\n",
       "    </tr>\n",
       "    <tr>\n",
       "      <th>18</th>\n",
       "      <td>1</td>\n",
       "      <td>1</td>\n",
       "      <td>1</td>\n",
       "      <td>1</td>\n",
       "      <td>1</td>\n",
       "      <td>-1</td>\n",
       "      <td>-1</td>\n",
       "      <td>-1</td>\n",
       "      <td>1</td>\n",
       "      <td>-1</td>\n",
       "      <td>...</td>\n",
       "      <td>1</td>\n",
       "      <td>1</td>\n",
       "      <td>1</td>\n",
       "      <td>1</td>\n",
       "      <td>1</td>\n",
       "      <td>1</td>\n",
       "      <td>1</td>\n",
       "      <td>1</td>\n",
       "      <td>1</td>\n",
       "      <td>1</td>\n",
       "    </tr>\n",
       "    <tr>\n",
       "      <th>19</th>\n",
       "      <td>1</td>\n",
       "      <td>1</td>\n",
       "      <td>1</td>\n",
       "      <td>1</td>\n",
       "      <td>1</td>\n",
       "      <td>1</td>\n",
       "      <td>1</td>\n",
       "      <td>1</td>\n",
       "      <td>1</td>\n",
       "      <td>1</td>\n",
       "      <td>...</td>\n",
       "      <td>1</td>\n",
       "      <td>1</td>\n",
       "      <td>1</td>\n",
       "      <td>1</td>\n",
       "      <td>1</td>\n",
       "      <td>1</td>\n",
       "      <td>1</td>\n",
       "      <td>1</td>\n",
       "      <td>1</td>\n",
       "      <td>1</td>\n",
       "    </tr>\n",
       "  </tbody>\n",
       "</table>\n",
       "<p>20 rows × 25 columns</p>\n",
       "</div>"
      ],
      "text/plain": [
       "    P1  P2  P3  P4  P5  P6  P7  P8  P9  P10  ...  P16  P17  P18  P19  P20  \\\n",
       "0   -1  -1  -1  -1  -1   1   1   1   1    1  ...    1    1    1    1    1   \n",
       "1   -1  -1  -1  -1  -1   1   1   1   1    1  ...    1    1    1    1    1   \n",
       "2    1   1   1   1   1   1   1   1   1    1  ...    1    1    1    1    1   \n",
       "3    1   1   1   1   1   1   1   1   1    1  ...    1    1    1    1    1   \n",
       "4   -1   1  -1  -1  -1   1   1   1   1    1  ...    1    1    1    1    1   \n",
       "5    1   1   1   1   1  -1   1  -1  -1   -1  ...   -1    1   -1   -1   -1   \n",
       "6    1   1   1   1   1   1   1   1   1    1  ...   -1   -1   -1    1   -1   \n",
       "7   -1  -1  -1  -1  -1   1   1   1   1    1  ...    1    1    1    1    1   \n",
       "8    1   1   1   1   1   1   1   1   1    1  ...    1    1    1    1    1   \n",
       "9   -1  -1   1  -1  -1  -1  -1  -1  -1   -1  ...   -1   -1   -1   -1   -1   \n",
       "10   1   1   1   1   1   1   1   1   1    1  ...   -1   -1   -1   -1   -1   \n",
       "11  -1  -1  -1   1  -1   1   1   1   1    1  ...    1    1    1    1    1   \n",
       "12  -1  -1  -1  -1  -1   1   1   1   1    1  ...    1    1    1    1    1   \n",
       "13   1   1   1   1   1  -1  -1   1  -1   -1  ...   -1   -1    1   -1   -1   \n",
       "14   1   1   1   1   1  -1  -1  -1  -1    1  ...   -1   -1   -1   -1    1   \n",
       "15  -1  -1  -1  -1   1   1   1   1   1    1  ...    1    1    1    1    1   \n",
       "16  -1  -1  -1  -1  -1   1   1   1   1    1  ...    1    1    1    1    1   \n",
       "17  -1  -1  -1  -1  -1  -1  -1  -1  -1   -1  ...    1    1    1    1    1   \n",
       "18   1   1   1   1   1  -1  -1  -1   1   -1  ...    1    1    1    1    1   \n",
       "19   1   1   1   1   1   1   1   1   1    1  ...    1    1    1    1    1   \n",
       "\n",
       "    P21  P22  P23  P24  P25  \n",
       "0     1    1    1    1    1  \n",
       "1     1    1    1    1    1  \n",
       "2     1    1    1    1    1  \n",
       "3     1    1    1    1    1  \n",
       "4    -1    1   -1   -1   -1  \n",
       "5    -1   -1   -1   -1   -1  \n",
       "6    -1   -1   -1    1   -1  \n",
       "7     1    1    1    1    1  \n",
       "8    -1   -1   -1   -1   -1  \n",
       "9    -1   -1   -1   -1   -1  \n",
       "10   -1   -1   -1   -1   -1  \n",
       "11    1    1    1    1    1  \n",
       "12   -1   -1    1   -1   -1  \n",
       "13   -1   -1   -1   -1   -1  \n",
       "14   -1   -1   -1   -1    1  \n",
       "15    1    1    1    1    1  \n",
       "16    1    1    1    1    1  \n",
       "17    1    1    1    1    1  \n",
       "18    1    1    1    1    1  \n",
       "19    1    1    1    1    1  \n",
       "\n",
       "[20 rows x 25 columns]"
      ]
     },
     "execution_count": 1,
     "metadata": {},
     "output_type": "execute_result"
    }
   ],
   "source": [
    "import pandas as pd\n",
    "import numpy as np\n",
    "import matplotlib.pyplot as plt\n",
    "import warnings\n",
    "df = pd.read_csv(\"C:/Users/DELL/Downloads/ANN/PPfileS.csv\")\n",
    "df"
   ]
  },
  {
   "cell_type": "code",
   "execution_count": 2,
   "id": "df68a7ac",
   "metadata": {},
   "outputs": [],
   "source": [
    "# Define the input patterns P1 to P25 from the above dataframe df\n",
    "input_patterns = np.array([\n",
    "    [-1, -1, 1, 1, -1, 1, 1, -1, 1, -1, 1, -1, -1, 1, 1, -1, -1, -1, 1, 1],\n",
    "    [-1, -1, 1, 1, 1, 1, 1, -1, 1, -1, 1, -1, -1, 1, 1, -1, -1, -1, 1, 1],\n",
    "    [-1, -1, 1, 1, -1, 1, 1, -1, 1, 1, 1, -1, -1, 1, 1, -1, -1, -1, 1, 1],\n",
    "    [-1, -1, 1, 1, -1, 1, 1, -1, 1, -1, 1, 1, -1, 1, 1, -1, -1, -1, 1, 1],\n",
    "    [-1, -1, 1, 1, -1, 1, 1, -1, 1, -1, 1, -1, -1, 1, 1, 1, -1, -1, 1, 1],\n",
    "    [1, 1, 1, 1, 1, -1, 1, 1, 1, -1, 1, 1, 1, -1, -1, 1, 1, -1, -1, 1],\n",
    "    [1, 1, 1, 1, 1, 1, 1, 1, 1, -1, 1, 1, 1, -1, -1, 1, 1, -1, -1, 1],\n",
    "    [1, 1, 1, 1, 1, -1, 1, 1, 1, -1, 1, 1, 1, 1, -1, 1, 1, -1, -1 ,1],\n",
    "    [1, 1, 1, 1, 1, -1, 1, 1, 1, -1, 1, 1, 1, -1, -1, 1, 1, -1, 1, 1],\n",
    "    [1, 1, 1, 1, 1, -1, 1, 1, 1,-1, 1, 1, 1, -1, 1, 1, 1, -1, -1, 1],\n",
    "    [-1, -1, -1, -1, 1, -1, -1, 1, 1, 1, 1, 1, 1, -1, -1, 1, -1, -1, -1, -1],\n",
    "    [1, -1, -1, -1, 1, -1, -1, 1, 1, 1, 1, 1, 1, -1, -1, 1, -1, -1, -1, -1],\n",
    "    [-1, -1, -1, -1, 1, -1, -1, 1, 1, 1, 1, 1, 1, 1, -1, 1, -1, -1, -1, -1],\n",
    "    [-1, -1, -1, 1, 1, -1, -1, 1, 1, 1, 1, 1, 1, -1, -1, 1, -1, -1, -1, -1],\n",
    "    [-1, -1, -1, -1, 1, -1, -1, 1, 1, 1, 1, 1, 1, -1, 1, 1, -1, -1, -1, -1],\n",
    "    [1, 1, 1, 1, 1, -1, -1, 1, 1, -1, -1, 1, 1, -1, -1, 1, 1, 1, 1, 1],\n",
    "    [1, 1, 1, 1, 1, 1, -1, 1, 1, -1, -1, 1, 1, -1, -1, 1, 1, 1, 1, 1],\n",
    "    [1, 1, 1, 1, 1, -1, -1, 1, 1, -1, -1, 1, 1, 1, -1, 1, 1, 1, 1, 1],\n",
    "    [1, 1, 1, 1, 1, -1, 1, 1, 1, -1, -1, 1, 1, -1, -1, 1, 1, 1, 1, 1],\n",
    "    [1, 1, 1, 1, 1, -1, -1, 1, 1, -1, -1, 1, 1, -1, 1, 1, 1, 1, 1, 1],\n",
    "    [1, 1, 1, 1, -1, -1, -1, 1, -1, -1, -1, 1, -1, -1, -1, 1, 1, 1, 1, 1],\n",
    "    [1, 1, 1, 1, 1, -1, -1, 1, -1, -1, -1, 1, -1, -1, -1, 1, 1, 1, 1, 1],\n",
    "    [1, 1, 1, 1, -1, -1, -1, 1, -1, -1, -1, 1, 1, -1, -1, 1, 1, 1, 1, 1],\n",
    "    [1, 1, 1, 1, -1, -1, 1, 1, -1, -1, -1, 1, -1, -1, -1, 1, 1, 1, 1, 1],\n",
    "    [1, 1, 1, 1, -1, -1, -1, 1, -1, -1, -1, 1, -1, -1, 1, 1, 1, 1, 1, 1],\n",
    "])"
   ]
  },
  {
   "cell_type": "markdown",
   "id": "24c49dd5",
   "metadata": {},
   "source": [
    "### Displaying figures for Training Set"
   ]
  },
  {
   "cell_type": "code",
   "execution_count": 3,
   "id": "0bf8e118",
   "metadata": {},
   "outputs": [
    {
     "data": {
      "image/png": "[encoded data removed]",
      "text/plain": [
       "<Figure size 720x720 with 25 Axes>"
      ]
     },
     "metadata": {},
     "output_type": "display_data"
    }
   ],
   "source": [
    "# Reshape the input patterns into 5x4 matrices\n",
    "reshaped_patterns = input_patterns.reshape((25, 5, 4))\n",
    "\n",
    "# Transpose the 5x4 matrices to get 4x5 matrices\n",
    "transposed_patterns = np.transpose(reshaped_patterns, (0, 2, 1))\n",
    "\n",
    "# Define the custom colormap with 0 (white) and 1 (black)\n",
    "cmap = plt.cm.colors.ListedColormap(['white', 'black'])\n",
    "\n",
    "# Create a subplot grid for 5 rows and 5 columns\n",
    "fig, axes = plt.subplots(5, 5, figsize=(10, 10))\n",
    "\n",
    "# Iterate through the patterns and display them in the subplots\n",
    "for i, ax in enumerate(axes.flat):\n",
    "    # Display the transposed pattern\n",
    "    ax.matshow(transposed_patterns[i], cmap=cmap)\n",
    "    ax.set_xticks([])\n",
    "    ax.set_yticks([])\n",
    "    ax.set_title(f'Pattern {i + 1}')\n",
    "\n",
    "plt.tight_layout()\n",
    "plt.show()"
   ]
  },
  {
   "cell_type": "markdown",
   "id": "7e444360",
   "metadata": {},
   "source": [
    "## CREATING 3 PROGRESSIVELY MORE CHALLENGING TEST SETS"
   ]
  },
  {
   "cell_type": "code",
   "execution_count": 4,
   "id": "9cbcd728",
   "metadata": {},
   "outputs": [],
   "source": [
    "#toggle function \n",
    "def toggle(colin, x, y):\n",
    "    indx = (x - 1) * 4 + y-1\n",
    "    oldval = colin[indx]\n",
    "    colout = colin.copy()\n",
    "    colout[indx] = oldval * (-1)\n",
    "    return colout"
   ]
  },
  {
   "cell_type": "markdown",
   "id": "c7b6a180",
   "metadata": {},
   "source": [
    "### Creation of test set TSET1 (Lowest noise set)"
   ]
  },
  {
   "cell_type": "code",
   "execution_count": 5,
   "id": "cf730320",
   "metadata": {},
   "outputs": [
    {
     "name": "stdout",
     "output_type": "stream",
     "text": [
      "[[-1 -1  1  1 -1  1  1 -1  1 -1  1 -1 -1  1  1 -1 -1 -1  1  1]\n",
      " [-1 -1  1  1 -1  1  1 -1  1 -1  1 -1  1  1  1 -1 -1 -1  1  1]\n",
      " [-1 -1  1  1 -1  1  1 -1  1 -1  1 -1 -1  1  1 -1 -1 -1 -1  1]\n",
      " [-1 -1  1  1 -1  1  1  1  1 -1  1 -1 -1  1  1 -1 -1 -1  1  1]\n",
      " [-1  1  1  1 -1  1  1 -1  1 -1  1 -1 -1  1  1 -1 -1 -1  1  1]\n",
      " [ 1  1  1  1  1 -1  1  1  1 -1  1  1  1 -1 -1  1  1 -1 -1  1]\n",
      " [ 1  1  1  1  1 -1  1 -1  1 -1  1  1  1 -1 -1  1  1 -1 -1  1]\n",
      " [ 1  1  1  1  1 -1  1  1  1 -1  1  1  1 -1 -1  1  1  1 -1  1]\n",
      " [ 1  1  1  1  1 -1  1  1  1 -1  1  1  1 -1  1  1  1 -1 -1  1]\n",
      " [ 1  1 -1  1  1 -1  1  1  1 -1  1  1  1 -1 -1  1  1 -1 -1  1]\n",
      " [-1 -1 -1 -1  1 -1 -1  1  1  1  1  1  1 -1 -1  1 -1 -1 -1 -1]\n",
      " [-1 -1 -1 -1  1 -1 -1  1  1  1  1  1  1 -1 -1 -1 -1 -1 -1 -1]\n",
      " [-1 -1 -1 -1  1 -1 -1 -1  1  1  1  1  1 -1 -1  1 -1 -1 -1 -1]\n",
      " [-1 -1 -1 -1  1  1 -1  1  1  1  1  1  1 -1 -1  1 -1 -1 -1 -1]\n",
      " [-1 -1 -1 -1  1 -1 -1  1  1  1  1 -1  1 -1 -1  1 -1 -1 -1 -1]\n",
      " [ 1  1  1  1  1 -1 -1  1  1 -1 -1  1  1 -1 -1  1  1  1  1  1]\n",
      " [ 1  1 -1  1  1 -1 -1  1  1 -1 -1  1  1 -1 -1  1  1  1  1  1]\n",
      " [ 1  1  1  1  1 -1 -1  1  1  1 -1  1  1 -1 -1  1  1  1  1  1]\n",
      " [ 1  1  1  1  1 -1 -1  1  1 -1 -1  1  1 -1 -1  1  1  1  1 -1]\n",
      " [ 1  1  1  1  1 -1 -1  1  1 -1  1  1  1 -1 -1  1  1  1  1  1]\n",
      " [ 1  1  1  1 -1 -1 -1  1 -1 -1 -1  1 -1 -1 -1  1  1  1  1  1]\n",
      " [ 1  1  1  1 -1 -1 -1  1 -1 -1 -1  1 -1 -1 -1  1  1  1 -1  1]\n",
      " [ 1  1  1  1 -1 -1 -1  1 -1 -1 -1 -1 -1 -1 -1  1  1  1  1  1]\n",
      " [ 1  1  1 -1 -1 -1 -1  1 -1 -1 -1  1 -1 -1 -1  1  1  1  1  1]\n",
      " [ 1  1  1  1 -1 -1 -1  1 -1 -1 -1  1 -1 -1 -1  1  1  1  1 -1]]\n"
     ]
    }
   ],
   "source": [
    "p101 = np.array([-1, -1, 1, 1, -1, 1, 1, -1, 1, -1, 1, -1, -1, 1, 1, -1, -1, -1, 1, 1])       # perfect A\n",
    "p106 = np.array([1, 1, 1, 1, 1, -1, 1, 1, 1, -1, 1, 1, 1, -1, -1, 1, 1, -1, -1, 1])           # perfect E\n",
    "p111 = np.array([-1, -1, -1, -1, 1, -1, -1, 1, 1, 1, 1, 1, 1, -1, -1, 1, -1, -1, -1, -1])     # perfect I\n",
    "p116 = np.array([1, 1, 1, 1, 1, -1, -1, 1, 1, -1, -1, 1, 1, -1, -1, 1, 1, 1, 1, 1])           # perfect O\n",
    "p121 = np.array([1, 1, 1, 1, -1, -1, -1, 1, -1, -1, -1, 1, -1, -1, -1, 1, 1, 1, 1, 1])        # perfect U\n",
    "\n",
    "# Call the toggle function for distorted A s,\n",
    "p102 = toggle(p101, 4, 1)\n",
    "p103 = toggle(p101, 5, 3)\n",
    "p104 = toggle(p101, 2, 4)\n",
    "p105 = toggle(p101, 1, 2)\n",
    "\n",
    "# Call the toggle function for distorted E s,\n",
    "p107 = toggle(p106, 2, 4)\n",
    "p108 = toggle(p106, 5, 2)\n",
    "p109 = toggle(p106, 4, 3)\n",
    "p110 = toggle(p106, 1, 3)\n",
    "\n",
    "# Call the toggle function for distorted I s,\n",
    "p112 = toggle(p111, 4, 4)\n",
    "p113 = toggle(p111, 2, 4)\n",
    "p114 = toggle(p111, 2, 2)\n",
    "p115 = toggle(p111, 3, 4)\n",
    "\n",
    "# Call the toggle function for distorted O s,\n",
    "p117 = toggle(p116, 1, 3)\n",
    "p118 = toggle(p116, 3, 2)\n",
    "p119 = toggle(p116, 5, 4)\n",
    "p120 = toggle(p116, 3, 3)\n",
    "\n",
    "# Call the toggle function for distorted U s,\n",
    "p122 = toggle(p121, 5, 3)\n",
    "p123 = toggle(p121, 3, 4)\n",
    "p124 = toggle(p121, 1, 4)\n",
    "p125 = toggle(p121, 5, 4)\n",
    "\n",
    "# Combine all patterns into an array\n",
    "test_set1 = np.vstack([p101,p102,p103,p104,p105,p106,p107,p108,p109,p110,p111,p112,p113,p114,p115,p116,p117,p118,p119,p120,p121,p122,p123,p124,p125])\n",
    "\n",
    "# Print the test_set1\n",
    "print(test_set1)"
   ]
  },
  {
   "cell_type": "markdown",
   "id": "95cd28fd",
   "metadata": {},
   "source": [
    "### Displaying figures for TSET1"
   ]
  },
  {
   "cell_type": "code",
   "execution_count": 6,
   "id": "ce1441d9",
   "metadata": {},
   "outputs": [
    {
     "data": {
      "image/png": "[encoded data removed]",
      "text/plain": [
       "<Figure size 720x720 with 25 Axes>"
      ]
     },
     "metadata": {},
     "output_type": "display_data"
    }
   ],
   "source": [
    "# Reshape the input patterns into 5x4 matrices\n",
    "conv_t_set1 = test_set1.reshape((25, 5, 4))\n",
    "\n",
    "# Transpose the 5x4 matrices to get 4x5 matrices\n",
    "mat_t_set1 = np.transpose(conv_t_set1, (0, 2, 1))\n",
    "\n",
    "# Create a subplot grid for 5 rows and 5 columns\n",
    "fig, axes = plt.subplots(5, 5, figsize=(10, 10))\n",
    "\n",
    "# Iterate through the patterns and display them in the subplots\n",
    "for i, ax in enumerate(axes.flat):\n",
    "    # Display the transposed pattern\n",
    "    ax.matshow(mat_t_set1[i], cmap=cmap)\n",
    "    ax.set_xticks([])\n",
    "    ax.set_yticks([])\n",
    "    ax.set_title(f'Pattern {i + 101}')\n",
    "\n",
    "plt.tight_layout()\n",
    "plt.show()"
   ]
  },
  {
   "cell_type": "markdown",
   "id": "a8ed8547",
   "metadata": {},
   "source": [
    "### Creation of test set TSET2(medium noise set)"
   ]
  },
  {
   "cell_type": "code",
   "execution_count": 7,
   "id": "095128c2",
   "metadata": {},
   "outputs": [
    {
     "name": "stdout",
     "output_type": "stream",
     "text": [
      "[[-1 -1  1  1 -1  1  1 -1  1 -1  1 -1 -1  1  1 -1 -1 -1  1  1]\n",
      " [-1 -1  1  1 -1  1  1 -1  1  1  1 -1  1  1  1 -1 -1 -1  1  1]\n",
      " [-1 -1 -1  1 -1  1  1 -1  1 -1  1 -1 -1  1  1 -1 -1 -1 -1  1]\n",
      " [-1 -1  1  1 -1  1  1  1  1 -1 -1 -1 -1  1  1 -1 -1 -1  1  1]\n",
      " [-1  1  1  1  1  1  1 -1  1 -1  1 -1 -1  1  1 -1 -1 -1  1  1]\n",
      " [ 1  1  1  1  1 -1  1  1  1 -1  1  1  1 -1 -1  1  1 -1 -1  1]\n",
      " [ 1  1  1  1  1 -1  1 -1  1  1  1  1  1 -1 -1  1  1 -1 -1  1]\n",
      " [ 1  1  1  1  1 -1  1  1  1 -1 -1  1  1 -1 -1  1  1  1 -1  1]\n",
      " [ 1  1  1  1  1 -1  1  1  1 -1  1  1  1 -1  1  1  1 -1 -1 -1]\n",
      " [ 1 -1 -1  1  1 -1  1  1  1 -1  1  1  1 -1 -1  1  1 -1 -1  1]\n",
      " [-1 -1 -1 -1  1 -1 -1  1  1  1  1  1  1 -1 -1  1 -1 -1 -1 -1]\n",
      " [-1 -1  1 -1  1 -1 -1  1  1  1  1  1  1 -1 -1 -1 -1 -1 -1 -1]\n",
      " [-1 -1 -1 -1  1  1 -1 -1  1  1  1  1  1 -1 -1  1 -1 -1 -1 -1]\n",
      " [-1 -1 -1 -1  1  1 -1  1  1  1  1  1  1 -1  1  1 -1 -1 -1 -1]\n",
      " [-1 -1 -1  1  1 -1 -1  1  1  1  1 -1  1 -1 -1  1 -1 -1 -1 -1]\n",
      " [ 1  1  1  1  1 -1 -1  1  1 -1 -1  1  1 -1 -1  1  1  1  1  1]\n",
      " [ 1  1 -1  1  1 -1 -1  1  1 -1 -1  1  1 -1  1  1  1  1  1  1]\n",
      " [ 1  1  1  1  1 -1 -1  1  1  1 -1  1  1 -1  1  1  1  1  1  1]\n",
      " [ 1  1  1  1  1 -1 -1  1  1 -1 -1  1  1 -1 -1  1 -1  1  1 -1]\n",
      " [ 1  1  1  1  1 -1 -1 -1  1 -1  1  1  1 -1 -1  1  1  1  1  1]\n",
      " [ 1  1  1  1 -1 -1 -1  1 -1 -1 -1  1 -1 -1 -1  1  1  1  1  1]\n",
      " [ 1  1  1  1 -1 -1 -1  1 -1 -1  1  1 -1 -1 -1  1  1  1 -1  1]\n",
      " [ 1  1  1  1 -1  1 -1  1 -1 -1 -1 -1 -1 -1 -1  1  1  1  1  1]\n",
      " [ 1  1  1 -1  1 -1 -1  1 -1 -1 -1  1 -1 -1 -1  1  1  1  1  1]\n",
      " [ 1  1 -1  1 -1 -1 -1  1 -1 -1 -1  1 -1 -1 -1  1  1  1  1 -1]]\n"
     ]
    }
   ],
   "source": [
    "p201 = p101      # perfect A\n",
    "p206 = p106      # perfect E\n",
    "p211 = p111      # perfect I\n",
    "p216 = p116      # perfect O\n",
    "p221 = p121      # perfect U\n",
    "\n",
    "# Call the toggle function for distorted A s,\n",
    "p202 = toggle(p102, 3, 2)\n",
    "p203 = toggle(p103, 1, 3)\n",
    "p204 = toggle(p104, 3, 3)\n",
    "p205 = toggle(p105, 2, 1)\n",
    "\n",
    "# Call the toggle function for distorted E s,\n",
    "p207 = toggle(p107, 3, 2)\n",
    "p208 = toggle(p108, 3, 3)\n",
    "p209 = toggle(p109, 5, 4)\n",
    "p210 = toggle(p110, 1, 2)\n",
    "\n",
    "# Call the toggle function for distorted I s,\n",
    "p212 = toggle(p112, 1, 3)\n",
    "p213 = toggle(p113, 2, 2)\n",
    "p214 = toggle(p114, 4, 3)\n",
    "p215 = toggle(p115, 1, 4)\n",
    "\n",
    "# Call the toggle function for distorted O s,\n",
    "p217 = toggle(p117, 4, 3)\n",
    "p218 = toggle(p118, 4, 3)\n",
    "p219 = toggle(p119, 5, 1)\n",
    "p220 = toggle(p120, 2, 4)\n",
    "\n",
    "# Call the toggle function for distorted U s,\n",
    "p222 = toggle(p122, 3, 3)\n",
    "p223 = toggle(p123, 2, 2)\n",
    "p224 = toggle(p124, 2, 1)\n",
    "p225 = toggle(p125, 1, 3)\n",
    "\n",
    "# Combine all patterns into an array\n",
    "test_set2 = np.vstack([p201,p202,p203,p204,p205,p206,p207,p208,p209,p210,p211,p212,p213,p214,p215,p216,p217,p218,p219,p220,p221,p222,p223,p224,p225])\n",
    "\n",
    "# Print the test_set2\n",
    "print(test_set2)\n"
   ]
  },
  {
   "cell_type": "markdown",
   "id": "a8b7818c",
   "metadata": {},
   "source": [
    "### Displaying figures for TSET2"
   ]
  },
  {
   "cell_type": "code",
   "execution_count": 8,
   "id": "59c7365a",
   "metadata": {},
   "outputs": [
    {
     "data": {
      "image/png": "[encoded data removed]",
      "text/plain": [
       "<Figure size 720x720 with 25 Axes>"
      ]
     },
     "metadata": {},
     "output_type": "display_data"
    }
   ],
   "source": [
    "# Reshape the input patterns into 5x4 matrices\n",
    "conv_t_set2 = test_set2.reshape((25, 5, 4))\n",
    "\n",
    "# Transpose the 5x4 matrices to get 4x5 matrices\n",
    "mat_t_set2 = np.transpose(conv_t_set2, (0, 2, 1))\n",
    "\n",
    "# Create a subplot grid for 5 rows and 5 columns\n",
    "fig, axes = plt.subplots(5, 5, figsize=(10, 10))\n",
    "\n",
    "# Iterate through the patterns and display them in the subplots\n",
    "for i, ax in enumerate(axes.flat):\n",
    "    # Display the transposed pattern\n",
    "    ax.matshow(mat_t_set2[i], cmap=cmap)\n",
    "    ax.set_xticks([])\n",
    "    ax.set_yticks([])\n",
    "    ax.set_title(f'Pattern {i + 201}')\n",
    "\n",
    "plt.tight_layout()\n",
    "plt.show()"
   ]
  },
  {
   "cell_type": "markdown",
   "id": "bcfda265",
   "metadata": {},
   "source": [
    "### Creation of test set TSET3 (highest noise set)"
   ]
  },
  {
   "cell_type": "code",
   "execution_count": 9,
   "id": "ebad24e3",
   "metadata": {},
   "outputs": [
    {
     "name": "stdout",
     "output_type": "stream",
     "text": [
      "[[-1 -1  1  1 -1  1  1 -1  1 -1  1 -1 -1  1  1 -1 -1 -1  1  1]\n",
      " [-1 -1  1  1 -1  1  1 -1  1  1  1 -1  1  1  1 -1 -1  1  1  1]\n",
      " [-1 -1 -1  1 -1  1  1 -1  1 -1 -1 -1 -1  1  1 -1 -1 -1 -1  1]\n",
      " [-1 -1 -1  1 -1  1  1  1  1 -1 -1 -1 -1  1  1 -1 -1 -1  1  1]\n",
      " [-1  1  1  1  1  1  1 -1  1 -1  1 -1 -1  1  1 -1  1 -1  1  1]\n",
      " [ 1  1  1  1  1 -1  1  1  1 -1  1  1  1 -1 -1  1  1 -1 -1  1]\n",
      " [ 1  1  1  1  1 -1  1 -1  1  1  1 -1  1 -1 -1  1  1 -1 -1  1]\n",
      " [ 1  1  1 -1  1 -1  1  1  1 -1 -1  1  1 -1 -1  1  1  1 -1  1]\n",
      " [ 1  1  1  1  1 -1  1  1  1 -1  1  1  1 -1  1  1  1  1 -1 -1]\n",
      " [ 1 -1  1  1  1 -1  1  1  1 -1  1  1  1 -1 -1  1  1 -1 -1  1]\n",
      " [-1 -1 -1 -1  1 -1 -1  1  1  1  1  1  1 -1 -1  1 -1 -1 -1 -1]\n",
      " [ 1 -1  1 -1  1 -1 -1  1  1  1  1  1  1 -1 -1 -1 -1 -1 -1 -1]\n",
      " [-1  1 -1 -1  1  1 -1 -1  1  1  1  1  1 -1 -1  1 -1 -1 -1 -1]\n",
      " [-1 -1 -1 -1  1  1 -1 -1  1  1  1  1  1 -1  1  1 -1 -1 -1 -1]\n",
      " [-1 -1 -1  1 -1 -1 -1  1  1  1  1 -1  1 -1 -1  1 -1 -1 -1 -1]\n",
      " [ 1  1  1  1  1 -1 -1  1  1 -1 -1  1  1 -1 -1  1  1  1  1  1]\n",
      " [ 1 -1 -1  1  1 -1 -1  1  1 -1 -1  1  1 -1  1  1  1  1  1  1]\n",
      " [ 1  1  1  1  1 -1 -1  1  1  1 -1  1  1  1  1  1  1  1  1  1]\n",
      " [ 1  1  1  1  1 -1 -1  1  1 -1  1  1  1 -1 -1  1 -1  1  1 -1]\n",
      " [ 1  1  1 -1  1 -1 -1 -1  1 -1  1  1  1 -1 -1  1  1  1  1  1]\n",
      " [ 1  1  1  1 -1 -1 -1  1 -1 -1 -1  1 -1 -1 -1  1  1  1  1  1]\n",
      " [ 1  1  1  1 -1 -1 -1  1 -1  1  1  1 -1 -1 -1  1  1  1 -1  1]\n",
      " [ 1  1  1  1 -1  1 -1  1 -1 -1 -1 -1 -1 -1 -1  1  1 -1  1  1]\n",
      " [ 1  1  1 -1  1 -1 -1  1 -1 -1 -1  1 -1 -1 -1  1  1  1  1 -1]\n",
      " [ 1  1 -1  1 -1 -1 -1  1 -1 -1 -1  1 -1  1 -1  1  1  1  1 -1]]\n"
     ]
    }
   ],
   "source": [
    "p301 = p101      # perfect A\n",
    "p306 = p106      # perfect E\n",
    "p311 = p111      # perfect I\n",
    "p316 = p116      # perfect O\n",
    "p321 = p121      # perfect U\n",
    "\n",
    "# Call the toggle function for distorted A s,\n",
    "p302 = toggle(p202, 5, 2)\n",
    "p303 = toggle(p203, 3, 3)\n",
    "p304 = toggle(p204, 1, 3)\n",
    "p305 = toggle(p205, 5, 1)\n",
    "\n",
    "# Call the toggle function for distorted E s,\n",
    "p307 = toggle(p207, 3, 4)\n",
    "p308 = toggle(p208, 1, 4)\n",
    "p309 = toggle(p209, 5, 2)\n",
    "p310 = toggle(p210, 1, 3)\n",
    "\n",
    "# Call the toggle function for distorted I s,\n",
    "p312 = toggle(p212, 1, 1)\n",
    "p313 = toggle(p213, 1, 2)\n",
    "p314 = toggle(p214, 2, 4)\n",
    "p315 = toggle(p215, 2, 1)\n",
    "\n",
    "# Call the toggle function for distorted O s,\n",
    "p317 = toggle(p217, 1, 2)\n",
    "p318 = toggle(p218, 4, 2)\n",
    "p319 = toggle(p219, 3, 3)\n",
    "p320 = toggle(p220, 1, 4)\n",
    "\n",
    "# Call the toggle function for distorted U s,\n",
    "p322 = toggle(p222, 3, 2)\n",
    "p323 = toggle(p223, 5, 2)\n",
    "p324 = toggle(p224, 5, 4)\n",
    "p325 = toggle(p225, 4, 2)\n",
    "\n",
    "# Combine all patterns into an array\n",
    "test_set3 = np.vstack([p301,p302,p303,p304,p305,p306,p307,p308,p309,p310,p311,p312,p313,p314,p315,p316,p317,p318,p319,p320,p321,p322,p323,p324,p325])\n",
    "\n",
    "# Print the test_set3\n",
    "print(test_set3)"
   ]
  },
  {
   "cell_type": "markdown",
   "id": "8274920d",
   "metadata": {},
   "source": [
    "### Displaying figures for TSET3"
   ]
  },
  {
   "cell_type": "code",
   "execution_count": 10,
   "id": "81215c99",
   "metadata": {},
   "outputs": [
    {
     "data": {
      "image/png": "[encoded data removed]",
      "text/plain": [
       "<Figure size 720x720 with 25 Axes>"
      ]
     },
     "metadata": {},
     "output_type": "display_data"
    }
   ],
   "source": [
    "# Reshape the input patterns into 5x4 matrices\n",
    "conv_t_set3 = test_set3.reshape((25, 5, 4))\n",
    "\n",
    "# Transpose the 5x4 matrices to get 4x5 matrices\n",
    "mat_t_set3 = np.transpose(conv_t_set3, (0, 2, 1))\n",
    "\n",
    "# Create a subplot grid for 5 rows and 5 columns\n",
    "fig, axes = plt.subplots(5, 5, figsize=(10, 10))\n",
    "\n",
    "# Iterate through the patterns and display them in the subplots\n",
    "for i, ax in enumerate(axes.flat):\n",
    "    # Display the transposed pattern\n",
    "    ax.matshow(mat_t_set3[i], cmap=cmap)\n",
    "    ax.set_xticks([])\n",
    "    ax.set_yticks([])\n",
    "    ax.set_title(f'Pattern {i + 301}')\n",
    "\n",
    "plt.tight_layout()\n",
    "plt.show()"
   ]
  },
  {
   "cell_type": "markdown",
   "id": "84eb1bdc",
   "metadata": {},
   "source": [
    "## TARGET ARRAYS OR TRUE LABELS for A & E"
   ]
  },
  {
   "cell_type": "code",
   "execution_count": 11,
   "id": "a6aabcf2",
   "metadata": {},
   "outputs": [],
   "source": [
    "targetsA = np.array([1, 1, 1, 1, 1, -1, -1, -1, -1, -1, -1, -1, -1, -1, -1, -1, -1, -1, -1, -1, -1, -1, -1, -1, -1])\n",
    "targetsE = np.array([-1, -1, -1, -1, -1, 1, 1, 1, 1, 1, -1, -1, -1, -1, -1, -1, -1, -1, -1, -1, -1, -1, -1, -1, -1])"
   ]
  },
  {
   "cell_type": "markdown",
   "id": "7185fd2f",
   "metadata": {},
   "source": [
    "## PART I: PERCEPTRON\n",
    "## I.1 “A DETECTOR” \n",
    "### Training 'A' Detector Perceptron"
   ]
  },
  {
   "cell_type": "code",
   "execution_count": 12,
   "id": "9ebdb225",
   "metadata": {},
   "outputs": [
    {
     "name": "stdout",
     "output_type": "stream",
     "text": [
      "patterns that changed in epoch 1: [6]\n",
      "Number of Changes in weights in epoch 1: 1\n",
      "patterns that changed in epoch 2: []\n",
      "Number of Changes in weights in epoch 2: 0\n",
      "Training complete in epoch 2. \n",
      "Number of Changes in weights in each epoch: [1, 0]\n",
      "weights:[-2 -2 -2 -2 -2  2 -2 -2 -2  2 -2 -2 -2  2  2 -2 -2  2  2 -2]\n",
      "bias:-2\n",
      "[[6], []]\n"
     ]
    }
   ],
   "source": [
    "\n",
    "# Initialize weights and bias to zero\n",
    "weights = np.zeros(input_patterns.shape[1])\n",
    "weights = weights.astype(int)\n",
    "bias = 0\n",
    "\n",
    "# Initialize variables to track changes\n",
    "changes = 0\n",
    "\n",
    "# Initialize an array to save the number of changes in each epoch\n",
    "changes_in_epochs = []\n",
    "\n",
    "# Initialize a list to save the pattern that prompted changes in each epoch\n",
    "patterns_with_changesA = []\n",
    "\n",
    "# Maximum number of epochs\n",
    "max_epochs = 20\n",
    "\n",
    "# Training the perceptron\n",
    "for epoch in range(max_epochs):\n",
    "    changes = 0\n",
    "    epoch_patternsA = []\n",
    "    for i, pattern in enumerate(input_patterns):\n",
    "        #print (pattern)\n",
    "        net = np.dot(pattern, weights) + bias\n",
    "        #coding for hardlims function\n",
    "        if net < 0:\n",
    "            a = -1\n",
    "        else:\n",
    "            a = 1\n",
    "        if a != targetsA[i]:\n",
    "            e = targetsA[i] -a\n",
    "            # Update weights and bias\n",
    "            weights = weights + (e * pattern)\n",
    "            bias = bias + e\n",
    "            changes = changes + 1\n",
    "            epoch_patternsA.append(i + 1)  # Add pattern number to the list\n",
    "\n",
    "    print(f\"patterns that changed in epoch {epoch +1}: {epoch_patternsA}\")\n",
    "    changes_in_epochs.append(changes)  # Save the number of changes in this epoch\n",
    "    patterns_with_changesA.append(epoch_patternsA)\n",
    "    print(f\"Number of Changes in weights in epoch {epoch + 1}:\", changes)\n",
    "    if changes == 0:\n",
    "        # If there are no weight changes in an epoch, stop training\n",
    "        break\n",
    "\n",
    "print(f\"Training complete in epoch {epoch + 1}. \\nNumber of Changes in weights in each epoch: {changes_in_epochs}\")\n",
    "print(f\"weights:{weights}\")\n",
    "print(f\"bias:{bias}\")\n",
    "print(patterns_with_changesA)"
   ]
  },
  {
   "cell_type": "code",
   "execution_count": 13,
   "id": "1a6c1034",
   "metadata": {},
   "outputs": [
    {
     "data": {
      "image/png": "[encoded data removed]",
      "text/plain": [
       "<Figure size 432x288 with 1 Axes>"
      ]
     },
     "metadata": {
      "needs_background": "light"
     },
     "output_type": "display_data"
    }
   ],
   "source": [
    "# Plot the graph for epoch vs number of changes\n",
    "plt.plot(range(1, len(changes_in_epochs) + 1), changes_in_epochs)\n",
    "plt.xlabel('Epoch')\n",
    "plt.ylabel('Number of Changes')\n",
    "plt.title('Epoch vs Number of Changes in the Perceptron')\n",
    "plt.grid(True)\n",
    "plt.show()"
   ]
  },
  {
   "cell_type": "code",
   "execution_count": 14,
   "id": "ced6f677",
   "metadata": {},
   "outputs": [
    {
     "data": {
      "image/png": "[encoded data removed]",
      "text/plain": [
       "<Figure size 720x432 with 1 Axes>"
      ]
     },
     "metadata": {
      "needs_background": "light"
     },
     "output_type": "display_data"
    }
   ],
   "source": [
    "plt.figure(figsize=(10, 6))\n",
    "# Plot the graph for epoch vs patterns that prompted weight changes\n",
    "for epoch, patterns in enumerate(patterns_with_changesA, start=1):\n",
    "    plt.scatter([epoch] * len(patterns), patterns, marker='o', color='b')\n",
    "plt.xlabel('Epoch')\n",
    "plt.ylabel('Pattern that Prompted Weight Changes')\n",
    "plt.yticks(range(1, 26))\n",
    "plt.title('Epoch vs Patterns with Weight Changes in the Perceptron')\n",
    "plt.grid(True)\n",
    "plt.show()"
   ]
  },
  {
   "cell_type": "markdown",
   "id": "27be88aa",
   "metadata": {},
   "source": [
    "## Testing 'A' detector Perceptron"
   ]
  },
  {
   "cell_type": "code",
   "execution_count": 15,
   "id": "04622df3",
   "metadata": {},
   "outputs": [],
   "source": [
    "#final  trained weights and bias \n",
    "weightsA = np.array([-2, -2, -2, -2, -2, 2, -2, -2, -2, 2, -2, -2, -2, 2, 2, -2, -2, 2, 2, -2])\n",
    "biasA = -2\n",
    "targetsA = np.array([1, 1, 1, 1, 1, -1, -1, -1, -1, -1, -1, -1, -1, -1, -1, -1, -1, -1, -1, -1, -1, -1, -1, -1, -1])\n",
    "\n",
    "def test_perceptron(test_set, weights, bias):\n",
    "    test_outputs = []\n",
    "    for pattern in test_set:\n",
    "        net = np.dot(pattern, weights) + bias\n",
    "        # Apply the hardlims activation function\n",
    "        if net < 0:\n",
    "            output = -1\n",
    "        else:\n",
    "            output = 1\n",
    "        test_outputs.append(output)\n",
    "    return test_outputs"
   ]
  },
  {
   "cell_type": "markdown",
   "id": "b3d36a72",
   "metadata": {},
   "source": [
    "### TSET1 with 'A' Detector Perceptron"
   ]
  },
  {
   "cell_type": "code",
   "execution_count": 16,
   "id": "50ea5b66",
   "metadata": {},
   "outputs": [
    {
     "name": "stdout",
     "output_type": "stream",
     "text": [
      "Perceptron outputs for the test set_1_A:\n",
      "[1, 1, 1, 1, 1, -1, -1, -1, -1, -1, -1, -1, -1, -1, -1, -1, -1, -1, -1, -1, -1, -1, -1, -1, -1]\n",
      "Number of correct classficitaions: 25\n",
      "Number of attempted classifications: 25\n",
      "Hit Ratio: 1.0\n",
      "Accuracy: 100.00%\n"
     ]
    }
   ],
   "source": [
    "# Call the test_perceptron function to get the perceptron outputs\n",
    "test_set_1A_outputs = test_perceptron(test_set1, weightsA, biasA)\n",
    "\n",
    "# Print the perceptron outputs for the test set\n",
    "print(\"Perceptron outputs for the test set_1_A:\")\n",
    "print(test_set_1A_outputs)\n",
    "\n",
    "matches = np.sum(targetsA == test_set_1A_outputs)\n",
    "print(f\"Number of correct classficitaions: {matches}\")\n",
    "print(f\"Number of attempted classifications: {len(targetsA)}\")\n",
    "Hit_Ratio = matches/len(targetsA)\n",
    "print(f\"Hit Ratio: {Hit_Ratio}\")\n",
    "accuracy = Hit_Ratio * 100\n",
    "print(f\"Accuracy: {accuracy:.2f}%\")\n"
   ]
  },
  {
   "cell_type": "markdown",
   "id": "22906310",
   "metadata": {},
   "source": [
    "### TSET2 with 'A' Detector Perceptron"
   ]
  },
  {
   "cell_type": "code",
   "execution_count": 17,
   "id": "6fa7df84",
   "metadata": {},
   "outputs": [
    {
     "name": "stdout",
     "output_type": "stream",
     "text": [
      "Perceptron outputs for the test set_2_A:\n",
      "[1, 1, 1, 1, -1, -1, -1, -1, -1, -1, -1, -1, -1, -1, -1, -1, -1, -1, -1, -1, -1, -1, -1, -1, -1]\n",
      "Number of correct classficitaions: 24\n",
      "Number of attempted classifications: 25\n",
      "Hit Ratio: 0.96\n",
      "Accuracy: 96.00%\n"
     ]
    }
   ],
   "source": [
    "# Call the test_perceptron function to get the perceptron outputs\n",
    "test_set_2A_outputs = test_perceptron(test_set2, weightsA, biasA)\n",
    "\n",
    "# Print the perceptron outputs for the test set\n",
    "print(\"Perceptron outputs for the test set_2_A:\")\n",
    "print(test_set_2A_outputs)\n",
    "\n",
    "matches = np.sum(targetsA == test_set_2A_outputs)\n",
    "print(f\"Number of correct classficitaions: {matches}\")\n",
    "print(f\"Number of attempted classifications: {len(targetsA)}\")\n",
    "Hit_Ratio = matches/len(targetsA)\n",
    "print(f\"Hit Ratio: {Hit_Ratio}\")\n",
    "accuracy = Hit_Ratio * 100\n",
    "print(f\"Accuracy: {accuracy:.2f}%\")"
   ]
  },
  {
   "cell_type": "markdown",
   "id": "1de39a93",
   "metadata": {},
   "source": [
    "### TSET3 with 'A' Detector Perceptron"
   ]
  },
  {
   "cell_type": "code",
   "execution_count": 18,
   "id": "cbdbe1c1",
   "metadata": {},
   "outputs": [
    {
     "name": "stdout",
     "output_type": "stream",
     "text": [
      "Perceptron outputs for the test set_3_A:\n",
      "[1, 1, 1, 1, -1, -1, -1, -1, -1, -1, -1, -1, -1, 1, -1, -1, -1, -1, -1, -1, -1, -1, -1, -1, -1]\n",
      "Number of correct classficitaions: 23\n",
      "Number of attempted classifications: 25\n",
      "Hit Ratio: 0.92\n",
      "Accuracy: 92.00%\n"
     ]
    }
   ],
   "source": [
    "# Call the test_perceptron function to get the perceptron outputs\n",
    "test_set_3A_outputs = test_perceptron(test_set3, weightsA, biasA)\n",
    "\n",
    "# Print the perceptron outputs for the test set\n",
    "print(\"Perceptron outputs for the test set_3_A:\")\n",
    "print(test_set_3A_outputs)\n",
    "\n",
    "matches = np.sum(targetsA == test_set_3A_outputs)\n",
    "print(f\"Number of correct classficitaions: {matches}\")\n",
    "print(f\"Number of attempted classifications: {len(targetsA)}\")\n",
    "Hit_Ratio = matches/len(targetsA)\n",
    "print(f\"Hit Ratio: {Hit_Ratio}\")\n",
    "accuracy = Hit_Ratio * 100\n",
    "print(f\"Accuracy: {accuracy:.2f}%\")"
   ]
  },
  {
   "cell_type": "markdown",
   "id": "62615c30",
   "metadata": {},
   "source": [
    "## Testing 'A' detector Perceptron with 25 Training Patterns"
   ]
  },
  {
   "cell_type": "code",
   "execution_count": 44,
   "id": "5eed0783",
   "metadata": {},
   "outputs": [
    {
     "name": "stdout",
     "output_type": "stream",
     "text": [
      "Perceptron outputs for the training_patterns :\n",
      "[1, 1, 1, 1, 1, -1, -1, -1, -1, -1, -1, -1, -1, -1, -1, -1, -1, -1, -1, -1, -1, -1, -1, -1, -1]\n",
      "Number of correct classficitaions: 25\n",
      "Number of attempted classifications: 25\n",
      "Hit Ratio: 1.0\n",
      "Accuracy: 100.00%\n"
     ]
    }
   ],
   "source": [
    "# Call the test_perceptron function to get the perceptron outputs\n",
    "training_pattern_outputs_A = test_perceptron(input_patterns, weightsA, biasA)\n",
    "\n",
    "# Print the perceptron outputs for the training patterns\n",
    "print(\"Perceptron outputs for the training_patterns :\")\n",
    "print(training_pattern_outputs_A)\n",
    "\n",
    "matches = np.sum(targetsA == training_pattern_outputs_A)\n",
    "print(f\"Number of correct classficitaions: {matches}\")\n",
    "print(f\"Number of attempted classifications: {len(targetsA)}\")\n",
    "Hit_Ratio = matches/len(targetsA)\n",
    "print(f\"Hit Ratio: {Hit_Ratio}\")\n",
    "accuracy = Hit_Ratio * 100\n",
    "print(f\"Accuracy: {accuracy:.2f}%\")"
   ]
  },
  {
   "cell_type": "markdown",
   "id": "c51cbd69",
   "metadata": {},
   "source": [
    "## I.2 “E DETECTOR”\n",
    "### Training 'E' Detector Perceptron"
   ]
  },
  {
   "cell_type": "code",
   "execution_count": 19,
   "id": "e2aa8471",
   "metadata": {},
   "outputs": [
    {
     "name": "stdout",
     "output_type": "stream",
     "text": [
      "patterns that changed in epoch 1: [1, 11, 16]\n",
      "Number of Changes in weights in epoch 1: 3\n",
      "patterns that changed in epoch 2: [6, 19]\n",
      "Number of Changes in weights in epoch 2: 2\n",
      "patterns that changed in epoch 3: [6, 12, 24]\n",
      "Number of Changes in weights in epoch 3: 3\n",
      "patterns that changed in epoch 4: [1, 6, 12, 24]\n",
      "Number of Changes in weights in epoch 4: 4\n",
      "patterns that changed in epoch 5: [9, 19]\n",
      "Number of Changes in weights in epoch 5: 2\n",
      "patterns that changed in epoch 6: [2, 9, 12]\n",
      "Number of Changes in weights in epoch 6: 3\n",
      "patterns that changed in epoch 7: []\n",
      "Number of Changes in weights in epoch 7: 0\n",
      "Training complete in 7 epochs. \n",
      "Number of Changes in weights in each epoch: [3, 2, 3, 4, 2, 3, 0]\n",
      "weights:[  2  14   2   2   2   2   6  -2  -6  -2   6  -2   6   2   2  -2  14  -6\n",
      " -10   2]\n",
      "bias:-14\n",
      "[[1, 11, 16], [6, 19], [6, 12, 24], [1, 6, 12, 24], [9, 19], [2, 9, 12], []]\n"
     ]
    }
   ],
   "source": [
    "# Initialize weights and bias to zero\n",
    "weights = np.zeros(input_patterns.shape[1])\n",
    "weights = weights.astype(int)\n",
    "bias = 0\n",
    "\n",
    "# Initialize variables to track changes\n",
    "changes = 0\n",
    "\n",
    "# Initialize an array to save the number of changes in each epoch\n",
    "changes_in_epochs = []\n",
    "\n",
    "# Initialize a list to save the pattern that prompted changes in each epoch\n",
    "patterns_with_changesE = []\n",
    "\n",
    "# Maximum number of epochs\n",
    "max_epochs = 40\n",
    "\n",
    "# Training the perceptron\n",
    "for epoch in range(max_epochs):\n",
    "    changes = 0\n",
    "    epoch_patternsE = []\n",
    "    for i, pattern in enumerate(input_patterns):\n",
    "        #print (pattern)\n",
    "        net = np.dot(pattern, weights) + bias\n",
    "        #coding for hardlims function\n",
    "        if net < 0:\n",
    "            a = -1\n",
    "        else:\n",
    "            a = 1\n",
    "        if a != targetsE[i]:\n",
    "            e = targetsE[i] -a\n",
    "            # Update weights and bias\n",
    "            weights = weights + (e * pattern)\n",
    "            bias = bias + e\n",
    "            changes = changes + 1\n",
    "            epoch_patternsE.append(i + 1)  # Add pattern number to the list\n",
    "\n",
    "    print(f\"patterns that changed in epoch {epoch +1}: {epoch_patternsE}\")\n",
    "    changes_in_epochs.append(changes)  # Save the number of changes in this epoch\n",
    "    patterns_with_changesE.append(epoch_patternsE)\n",
    "    print(f\"Number of Changes in weights in epoch {epoch + 1}:\", changes)\n",
    "    if changes == 0:\n",
    "        # If there are no weight changes in an epoch, stop training\n",
    "        break\n",
    "\n",
    "print(f\"Training complete in {epoch + 1} epochs. \\nNumber of Changes in weights in each epoch: {changes_in_epochs}\")\n",
    "print(f\"weights:{weights}\")\n",
    "print(f\"bias:{bias}\")\n",
    "print(patterns_with_changesE)"
   ]
  },
  {
   "cell_type": "code",
   "execution_count": 20,
   "id": "51345f42",
   "metadata": {},
   "outputs": [
    {
     "data": {
      "image/png": "[encoded data removed]",
      "text/plain": [
       "<Figure size 432x288 with 1 Axes>"
      ]
     },
     "metadata": {
      "needs_background": "light"
     },
     "output_type": "display_data"
    }
   ],
   "source": [
    "# Plot the graph for epoch vs number of changes\n",
    "plt.plot(range(1, len(changes_in_epochs) + 1), changes_in_epochs, marker='o', linestyle='-', color='b')\n",
    "plt.xlabel('Epoch')\n",
    "plt.ylabel('Number of Changes')\n",
    "plt.title('Epoch vs Number of Changes in the Perceptron')\n",
    "plt.grid(True)\n",
    "plt.show()"
   ]
  },
  {
   "cell_type": "code",
   "execution_count": 21,
   "id": "834a303f",
   "metadata": {},
   "outputs": [
    {
     "data": {
      "image/png": "[encoded data removed]",
      "text/plain": [
       "<Figure size 720x432 with 1 Axes>"
      ]
     },
     "metadata": {
      "needs_background": "light"
     },
     "output_type": "display_data"
    }
   ],
   "source": [
    "plt.figure(figsize=(10, 6))\n",
    "# Plot the graph for epoch vs patterns that prompted weight changes\n",
    "for epoch, patterns in enumerate(patterns_with_changesE, start=1):\n",
    "    plt.scatter([epoch] * len(patterns), patterns, marker='o', color='b')\n",
    "    \n",
    "plt.xlabel('Epoch')\n",
    "plt.ylabel('Pattern that Prompted Weight Changes')\n",
    "plt.yticks(range(1, 26))\n",
    "plt.title('Epoch vs Patterns with Weight Changes in the Perceptron')\n",
    "plt.grid(True)\n",
    "plt.show()"
   ]
  },
  {
   "cell_type": "markdown",
   "id": "00fe1169",
   "metadata": {},
   "source": [
    "### Testing 'E' detector Perceptron"
   ]
  },
  {
   "cell_type": "code",
   "execution_count": 22,
   "id": "4662bbcd",
   "metadata": {},
   "outputs": [],
   "source": [
    "#final trained weights and bias \n",
    "weightsE = np.array([2, 14, 2, 2, 2, 2, 6, -2, -6, -2, 6, -2, 6, 2, 2, -2, 14, -6, -10, 2])\n",
    "biasE = -14\n",
    "targetsE = np.array([-1, -1, -1, -1, -1, 1, 1, 1, 1, 1, -1, -1, -1, -1, -1, -1, -1, -1, -1, -1, -1, -1, -1, -1, -1])"
   ]
  },
  {
   "cell_type": "markdown",
   "id": "ff90aee8",
   "metadata": {},
   "source": [
    "### TSET1 with 'E' Detector Perceptron"
   ]
  },
  {
   "cell_type": "code",
   "execution_count": 23,
   "id": "03416249",
   "metadata": {},
   "outputs": [
    {
     "name": "stdout",
     "output_type": "stream",
     "text": [
      "Perceptron outputs for the test set_1_E:\n",
      "[-1, -1, -1, -1, -1, 1, 1, 1, 1, 1, -1, -1, -1, -1, -1, -1, -1, -1, -1, -1, -1, 1, -1, -1, -1]\n",
      "Number of correct classficitaions: 24\n",
      "Number of attempted classifications: 25\n",
      "Hit Ratio: 0.96\n",
      "Accuracy: 96.00%\n"
     ]
    }
   ],
   "source": [
    "# Call the test_perceptron function to get the perceptron outputs\n",
    "test_set_1E_outputs = test_perceptron(test_set1, weightsE, biasE)\n",
    "\n",
    "# Print the perceptron outputs for the test set\n",
    "print(\"Perceptron outputs for the test set_1_E:\")\n",
    "print(test_set_1E_outputs)\n",
    "\n",
    "matches = np.sum(targetsE == test_set_1E_outputs)\n",
    "print(f\"Number of correct classficitaions: {matches}\")\n",
    "print(f\"Number of attempted classifications: {len(targetsE)}\")\n",
    "Hit_Ratio = matches/len(targetsE)\n",
    "print(f\"Hit Ratio: {Hit_Ratio}\")\n",
    "accuracy = Hit_Ratio * 100\n",
    "print(f\"Accuracy: {accuracy:.2f}%\")"
   ]
  },
  {
   "cell_type": "markdown",
   "id": "053cab63",
   "metadata": {},
   "source": [
    "### TSET2 with 'E' Detector Perceptron"
   ]
  },
  {
   "cell_type": "code",
   "execution_count": 24,
   "id": "3c53a99e",
   "metadata": {},
   "outputs": [
    {
     "name": "stdout",
     "output_type": "stream",
     "text": [
      "Perceptron outputs for the test set_2_E:\n",
      "[-1, -1, -1, -1, 1, 1, 1, 1, 1, 1, -1, -1, -1, -1, -1, -1, -1, -1, -1, 1, -1, 1, -1, -1, -1]\n",
      "Number of correct classficitaions: 22\n",
      "Number of attempted classifications: 25\n",
      "Hit Ratio: 0.88\n",
      "Accuracy: 88.00%\n"
     ]
    }
   ],
   "source": [
    "# Call the test_perceptron function to get the perceptron outputs\n",
    "test_set_2E_outputs = test_perceptron(test_set2, weightsE, biasE)\n",
    "\n",
    "# Print the perceptron outputs for the test set\n",
    "print(\"Perceptron outputs for the test set_2_E:\")\n",
    "print(test_set_2E_outputs)\n",
    "\n",
    "matches = np.sum(targetsE == test_set_2E_outputs)\n",
    "print(f\"Number of correct classficitaions: {matches}\")\n",
    "print(f\"Number of attempted classifications: {len(targetsE)}\")\n",
    "Hit_Ratio = matches/len(targetsE)\n",
    "print(f\"Hit Ratio: {Hit_Ratio}\")\n",
    "accuracy = Hit_Ratio * 100\n",
    "print(f\"Accuracy: {accuracy:.2f}%\")"
   ]
  },
  {
   "cell_type": "markdown",
   "id": "2807ced9",
   "metadata": {},
   "source": [
    "### TSET3 with 'E' Detector Perceptron"
   ]
  },
  {
   "cell_type": "code",
   "execution_count": 25,
   "id": "1ff31e4c",
   "metadata": {},
   "outputs": [
    {
     "name": "stdout",
     "output_type": "stream",
     "text": [
      "Perceptron outputs for the test set_3_E:\n",
      "[-1, -1, -1, -1, 1, 1, 1, 1, 1, 1, -1, -1, -1, -1, -1, -1, -1, -1, -1, -1, -1, 1, 1, -1, -1]\n",
      "Number of correct classficitaions: 22\n",
      "Number of attempted classifications: 25\n",
      "Hit Ratio: 0.88\n",
      "Accuracy: 88.00%\n"
     ]
    }
   ],
   "source": [
    "# Call the test_perceptron function to get the perceptron outputs\n",
    "test_set_3E_outputs = test_perceptron(test_set3, weightsE, biasE)\n",
    "\n",
    "# Print the perceptron outputs for the test set\n",
    "print(\"Perceptron outputs for the test set_3_E:\")\n",
    "print(test_set_3E_outputs)\n",
    "\n",
    "matches = np.sum(targetsE == test_set_3E_outputs)\n",
    "print(f\"Number of correct classficitaions: {matches}\")\n",
    "print(f\"Number of attempted classifications: {len(targetsE)}\")\n",
    "Hit_Ratio = matches/len(targetsE)\n",
    "print(f\"Hit Ratio: {Hit_Ratio}\")\n",
    "accuracy = Hit_Ratio * 100\n",
    "print(f\"Accuracy: {accuracy:.2f}%\")"
   ]
  },
  {
   "cell_type": "markdown",
   "id": "b85f0064",
   "metadata": {},
   "source": [
    "## Testing 'E' detector Perceptron with 25 Training Patterns"
   ]
  },
  {
   "cell_type": "code",
   "execution_count": 45,
   "id": "280ed6c7",
   "metadata": {},
   "outputs": [
    {
     "name": "stdout",
     "output_type": "stream",
     "text": [
      "Perceptron outputs for the training_patterns :\n",
      "[-1, -1, -1, -1, -1, 1, 1, 1, 1, 1, -1, -1, -1, -1, -1, -1, -1, -1, -1, -1, -1, -1, -1, -1, -1]\n",
      "Number of correct classficitaions: 25\n",
      "Number of attempted classifications: 25\n",
      "Hit Ratio: 1.0\n",
      "Accuracy: 100.00%\n"
     ]
    }
   ],
   "source": [
    "# Call the test_perceptron function to get the perceptron outputs\n",
    "training_pattern_outputs_E = test_perceptron(input_patterns, weightsE, biasE)\n",
    "\n",
    "# Print the perceptron outputs for the training patterns\n",
    "print(\"Perceptron outputs for the training_patterns :\")\n",
    "print(training_pattern_outputs_E)\n",
    "\n",
    "matches = np.sum(targetsE == training_pattern_outputs_E)\n",
    "print(f\"Number of correct classficitaions: {matches}\")\n",
    "print(f\"Number of attempted classifications: {len(targetsE)}\")\n",
    "Hit_Ratio = matches/len(targetsE)\n",
    "print(f\"Hit Ratio: {Hit_Ratio}\")\n",
    "accuracy = Hit_Ratio * 100\n",
    "print(f\"Accuracy: {accuracy:.2f}%\")"
   ]
  },
  {
   "cell_type": "markdown",
   "id": "e839b685",
   "metadata": {},
   "source": [
    "## PART II: ADALINE:\n",
    "## II.1 “A DETECTOR”\n",
    "### Training 'A' Detector Adaline\n"
   ]
  },
  {
   "cell_type": "code",
   "execution_count": 26,
   "id": "3b160940",
   "metadata": {},
   "outputs": [
    {
     "name": "stdout",
     "output_type": "stream",
     "text": [
      "OBSERVATIONS FOR ALPHA_1: 0.1\n",
      "Epoch 1: MSE = 1882263820279.4207\n",
      "Epoch 2: MSE = 1.03379380188956e+25\n",
      "Epoch 3: MSE = 5.678317000573412e+37\n",
      "Epoch 4: MSE = 3.1189279487043548e+50\n",
      "Epoch 5: MSE = 1.7131328786732566e+63\n",
      "Epoch 6: MSE = 9.409721251209038e+75\n",
      "Epoch 7: MSE = 5.1684755530480135e+88\n",
      "Epoch 8: MSE = 2.838887447279345e+101\n",
      "Epoch 9: MSE = 1.5593150931259472e+114\n",
      "Epoch 10: MSE = 8.564846633777523e+126\n",
      "Epoch 11: MSE = 4.704411454972366e+139\n",
      "Epoch 12: MSE = 2.5839910606681996e+152\n",
      "Epoch 13: MSE = 1.4193082100750023e+165\n",
      "Epoch 14: MSE = 7.7958311305666335e+177\n",
      "Epoch 15: MSE = 4.282014476129916e+190\n",
      "Epoch 16: MSE = 2.3519811636111482e+203\n",
      "Epoch 17: MSE = 1.2918721841831072e+216\n",
      "Epoch 18: MSE = 7.095863547238703e+228\n",
      "Epoch 19: MSE = 3.8975434332824216e+241\n",
      "Epoch 20: MSE = 2.1408028372014423e+254\n",
      "OBSERVATIONS FOR ALPHA_2: 0.01\n",
      "Epoch 1: MSE = 0.17213 ; W1 = -0.1087, W2 = -0.1033, W3 = -0.0042, W4 = -0.0096; bias = -0.0649 \n",
      "Epoch 2: MSE = 0.04212 ; W1 = -0.0846, W2 = -0.0810, W3 = 0.0003, W4 = -0.0057; bias = -0.0907 \n",
      "Epoch 3: MSE = 0.02748 ; W1 = -0.0705, W2 = -0.0706, W3 = 0.0029, W4 = -0.0021; bias = -0.1066 \n",
      "Epoch 4: MSE = 0.02206 ; W1 = -0.0619, W2 = -0.0668, W3 = 0.0046, W4 = 0.0011; bias = -0.1174 \n",
      "Epoch 5: MSE = 0.01952 ; W1 = -0.0563, W2 = -0.0663, W3 = 0.0058, W4 = 0.0040; bias = -0.1255 \n",
      "Epoch 6: MSE = 0.01793 ; W1 = -0.0522, W2 = -0.0674, W3 = 0.0066, W4 = 0.0065; bias = -0.1321 \n",
      "Epoch 7: MSE = 0.01675 ; W1 = -0.0489, W2 = -0.0693, W3 = 0.0073, W4 = 0.0088; bias = -0.1377 \n",
      "Epoch 8: MSE = 0.01578 ; W1 = -0.0461, W2 = -0.0715, W3 = 0.0079, W4 = 0.0108; bias = -0.1428 \n",
      "Epoch 9: MSE = 0.01495 ; W1 = -0.0435, W2 = -0.0738, W3 = 0.0085, W4 = 0.0126; bias = -0.1475 \n",
      "Epoch 10: MSE = 0.01422 ; W1 = -0.0410, W2 = -0.0760, W3 = 0.0091, W4 = 0.0142; bias = -0.1520 \n",
      "Epoch 11: MSE = 0.01357 ; W1 = -0.0387, W2 = -0.0782, W3 = 0.0098, W4 = 0.0157; bias = -0.1562 \n",
      "Epoch 12: MSE = 0.01298 ; W1 = -0.0365, W2 = -0.0802, W3 = 0.0105, W4 = 0.0171; bias = -0.1603 \n",
      "Epoch 13: MSE = 0.01243 ; W1 = -0.0343, W2 = -0.0822, W3 = 0.0112, W4 = 0.0184; bias = -0.1642 \n",
      "Epoch 14: MSE = 0.01192 ; W1 = -0.0323, W2 = -0.0840, W3 = 0.0119, W4 = 0.0196; bias = -0.1680 \n",
      "Epoch 15: MSE = 0.01145 ; W1 = -0.0303, W2 = -0.0858, W3 = 0.0127, W4 = 0.0207; bias = -0.1717 \n",
      "Epoch 16: MSE = 0.01102 ; W1 = -0.0284, W2 = -0.0874, W3 = 0.0136, W4 = 0.0218; bias = -0.1752 \n",
      "Epoch 17: MSE = 0.01060 ; W1 = -0.0265, W2 = -0.0891, W3 = 0.0144, W4 = 0.0227; bias = -0.1786 \n",
      "Epoch 18: MSE = 0.01022 ; W1 = -0.0248, W2 = -0.0906, W3 = 0.0153, W4 = 0.0236; bias = -0.1819 \n",
      "Epoch 19: MSE = 0.00986 ; W1 = -0.0231, W2 = -0.0920, W3 = 0.0162, W4 = 0.0244; bias = -0.1851 \n",
      "Epoch 20: MSE = 0.00952 ; W1 = -0.0216, W2 = -0.0935, W3 = 0.0172, W4 = 0.0252; bias = -0.1882 \n",
      "OBSERVATIONS FOR ALPHA_3: 0.001\n",
      "Epoch 1: MSE = 0.73711 ; W1 = -0.0289, W2 = -0.0256, W3 = -0.0069, W4 = -0.0102; bias = -0.0241 \n",
      "Epoch 2: MSE = 0.36113 ; W1 = -0.0471, W2 = -0.0412, W3 = -0.0093, W4 = -0.0152; bias = -0.0405 \n",
      "Epoch 3: MSE = 0.18950 ; W1 = -0.0583, W2 = -0.0506, W3 = -0.0093, W4 = -0.0171; bias = -0.0519 \n",
      "Epoch 4: MSE = 0.10877 ; W1 = -0.0651, W2 = -0.0560, W3 = -0.0079, W4 = -0.0174; bias = -0.0601 \n",
      "Epoch 5: MSE = 0.06935 ; W1 = -0.0690, W2 = -0.0590, W3 = -0.0060, W4 = -0.0168; bias = -0.0660 \n",
      "Epoch 6: MSE = 0.04919 ; W1 = -0.0711, W2 = -0.0605, W3 = -0.0040, W4 = -0.0157; bias = -0.0706 \n",
      "Epoch 7: MSE = 0.03831 ; W1 = -0.0721, W2 = -0.0610, W3 = -0.0020, W4 = -0.0146; bias = -0.0742 \n",
      "Epoch 8: MSE = 0.03208 ; W1 = -0.0724, W2 = -0.0611, W3 = -0.0002, W4 = -0.0134; bias = -0.0771 \n",
      "Epoch 9: MSE = 0.02827 ; W1 = -0.0722, W2 = -0.0608, W3 = 0.0013, W4 = -0.0124; bias = -0.0797 \n",
      "Epoch 10: MSE = 0.02578 ; W1 = -0.0718, W2 = -0.0604, W3 = 0.0026, W4 = -0.0115; bias = -0.0819 \n",
      "Epoch 11: MSE = 0.02405 ; W1 = -0.0712, W2 = -0.0599, W3 = 0.0037, W4 = -0.0107; bias = -0.0839 \n",
      "Epoch 12: MSE = 0.02277 ; W1 = -0.0705, W2 = -0.0594, W3 = 0.0047, W4 = -0.0101; bias = -0.0857 \n",
      "Epoch 13: MSE = 0.02177 ; W1 = -0.0698, W2 = -0.0590, W3 = 0.0054, W4 = -0.0095; bias = -0.0875 \n",
      "Epoch 14: MSE = 0.02097 ; W1 = -0.0690, W2 = -0.0585, W3 = 0.0060, W4 = -0.0091; bias = -0.0891 \n",
      "Epoch 15: MSE = 0.02028 ; W1 = -0.0683, W2 = -0.0581, W3 = 0.0065, W4 = -0.0087; bias = -0.0906 \n",
      "Epoch 16: MSE = 0.01969 ; W1 = -0.0676, W2 = -0.0577, W3 = 0.0069, W4 = -0.0084; bias = -0.0921 \n",
      "Epoch 17: MSE = 0.01918 ; W1 = -0.0669, W2 = -0.0574, W3 = 0.0072, W4 = -0.0081; bias = -0.0935 \n",
      "Epoch 18: MSE = 0.01871 ; W1 = -0.0662, W2 = -0.0572, W3 = 0.0075, W4 = -0.0079; bias = -0.0948 \n",
      "Epoch 19: MSE = 0.01829 ; W1 = -0.0656, W2 = -0.0569, W3 = 0.0077, W4 = -0.0077; bias = -0.0961 \n",
      "Epoch 20: MSE = 0.01790 ; W1 = -0.0649, W2 = -0.0567, W3 = 0.0079, W4 = -0.0076; bias = -0.0973 \n",
      "Final Weights for alpha = 0.01: ['-0.0216', '-0.0935', '0.0172', '0.0252', '-0.0364', '0.0852', '0.0532', '-0.2989', '0.0303', '-0.0514', '0.0153', '-0.1373', '-0.0320', '0.0654', '0.0579', '-0.1641', '-0.0935', '-0.0153', '0.0865', '0.0172']\n",
      "Final Bias for alpha = 0.01: -0.1882\n"
     ]
    }
   ],
   "source": [
    "# Initialize weights and bias to zero\n",
    "weights = np.zeros(input_patterns.shape[1])\n",
    "bias = 0\n",
    "\n",
    "# Define the learning rates (alphas)\n",
    "alpha_values = [0.1, 0.01, 0.001]\n",
    "\n",
    "max_epochs = 20\n",
    "t = 0     #count & iterate of alpha values\n",
    "\n",
    "# Initialize dictionaries to track Mean Squared Error and weights for each alpha\n",
    "mse_alpha = {}\n",
    "bias_alpha = {}\n",
    "w1_alpha = {}\n",
    "w2_alpha = {}\n",
    "w3_alpha = {}\n",
    "w4_alpha = {}\n",
    "\n",
    "# Adaline training algorithm\n",
    "for alpha in alpha_values:\n",
    "    # Initialize weights and bias to zero for each alpha\n",
    "    weights = np.zeros(input_patterns.shape[1])\n",
    "    bias = 0\n",
    "    t += 1\n",
    "    print(f\"OBSERVATIONS FOR ALPHA_{t}: {alpha}\")\n",
    "    mse_values = []\n",
    "    bias_values = []\n",
    "    w1_values = []\n",
    "    w2_values = []\n",
    "    w3_values = []\n",
    "    w4_values = []\n",
    "\n",
    "    for epoch in range(max_epochs):\n",
    "        mse = 0  # Initialize MSE for this epoch\n",
    "        for i, pattern in enumerate(input_patterns):\n",
    "            net = np.dot(pattern, weights) + bias\n",
    "            error = targetsA[i] - net\n",
    "            a = net  # Linear activation function\n",
    "            weights = weights + (2 * alpha * error * pattern)  # Update weights\n",
    "            bias = bias + (2 * alpha * error)  # Update bias\n",
    "            mse = mse + (error ** 2)  # Accumulate squared error\n",
    "        mse_values.append(mse / len(input_patterns))  # Calculate and save the average MSE\n",
    "        bias_values.append(bias)\n",
    "        w1_values.append(weights[0])\n",
    "        w2_values.append(weights[1])\n",
    "        w3_values.append(weights[2])\n",
    "        w4_values.append(weights[3])\n",
    "        \n",
    "        \n",
    "        if alpha == 0.01:     \n",
    "            final_weights_alpha_0_01 = weights\n",
    "            final_bias_alpha_0_01 = bias\n",
    "        if alpha != 0.1:\n",
    "            print(f\"Epoch {epoch + 1}: MSE = {mse_values[-1]:.5f} ; W1 = {weights[0]:.4f}, W2 = {weights[1]:.4f}, W3 = {weights[2]:.4f}, W4 = {weights[3]:.4f}; bias = {bias:.4f} \")\n",
    "        else:\n",
    "            print(f\"Epoch {epoch + 1}: MSE = {mse_values[-1]}\")\n",
    "    # Store the results for the current alpha\n",
    "    mse_alpha[alpha] = mse_values\n",
    "    bias_alpha[alpha] = bias_values\n",
    "    w1_alpha[alpha] = w1_values\n",
    "    w2_alpha[alpha] = w2_values\n",
    "    w3_alpha[alpha] = w3_values\n",
    "    w4_alpha[alpha] = w4_values\n",
    "\n",
    "    \n",
    "# Print the final weights for alpha = 0.01\n",
    "print(\"Final Weights for alpha = 0.01:\", [f\"{w:.4f}\" for w in final_weights_alpha_0_01])\n",
    "print(\"Final Bias for alpha = 0.01:\", f\"{final_bias_alpha_0_01:.4f}\")\n"
   ]
  },
  {
   "cell_type": "code",
   "execution_count": 27,
   "id": "38e4a06d",
   "metadata": {},
   "outputs": [
    {
     "data": {
      "image/png": "[encoded data removed]",
      "text/plain": [
       "<Figure size 864x288 with 2 Axes>"
      ]
     },
     "metadata": {
      "needs_background": "light"
     },
     "output_type": "display_data"
    },
    {
     "data": {
      "image/png": "[encoded data removed]",
      "text/plain": [
       "<Figure size 864x288 with 2 Axes>"
      ]
     },
     "metadata": {
      "needs_background": "light"
     },
     "output_type": "display_data"
    },
    {
     "data": {
      "image/png": "[encoded data removed]",
      "text/plain": [
       "<Figure size 864x288 with 2 Axes>"
      ]
     },
     "metadata": {
      "needs_background": "light"
     },
     "output_type": "display_data"
    }
   ],
   "source": [
    "# Plot the values of bias, w1, w2, w3, and w4 vs. epoch for each alpha\n",
    "for alpha in alpha_values:\n",
    "    plt.figure(figsize=(12, 4))\n",
    "    plt.subplot(1, 2, 1)\n",
    "    plt.plot(range(len(mse_alpha[alpha])), mse_alpha[alpha], label='MSE')\n",
    "    plt.xlabel(\"Epoch\")\n",
    "    plt.ylabel(\"MSE\")\n",
    "    plt.title(f\"Alpha = {alpha}\")\n",
    "    plt.legend()\n",
    "\n",
    "    plt.subplot(1, 2, 2)\n",
    "    plt.plot(range(len(bias_alpha[alpha])), bias_alpha[alpha], label='Bias')\n",
    "    plt.plot(range(len(w1_alpha[alpha])), w1_alpha[alpha], label='w1')\n",
    "    plt.plot(range(len(w2_alpha[alpha])), w2_alpha[alpha], label='w2')\n",
    "    plt.plot(range(len(w3_alpha[alpha])), w3_alpha[alpha], label='w3')\n",
    "    plt.plot(range(len(w4_alpha[alpha])), w4_alpha[alpha], label='w4')\n",
    "    plt.xlabel(\"Epoch\")\n",
    "    plt.title(f\"Bias and Weights (w1, w2, w3, w4) - Alpha = {alpha}\")\n",
    "    plt.legend()\n",
    "\n",
    "plt.show()"
   ]
  },
  {
   "cell_type": "markdown",
   "id": "d7f7de3f",
   "metadata": {},
   "source": [
    "## Testing 'A' Detector Adaline with best tranied weights when Alpha = 0.01"
   ]
  },
  {
   "cell_type": "code",
   "execution_count": 28,
   "id": "01b14ac3",
   "metadata": {
    "scrolled": true
   },
   "outputs": [
    {
     "name": "stdout",
     "output_type": "stream",
     "text": [
      "[-0.02156626 -0.09345598  0.01715754  0.02519263 -0.03635294  0.0852304\n",
      "  0.05317853 -0.29885377  0.03025028 -0.05136438  0.01531267 -0.13729496\n",
      " -0.0319741   0.06539273  0.05787763 -0.16411643 -0.09345598 -0.01531267\n",
      "  0.08650757  0.01715754]\n",
      "-0.18824024664617364\n"
     ]
    }
   ],
   "source": [
    "#final trained weights and bias\n",
    "trained_weights_A = final_weights_alpha_0_01 \n",
    "trained_bias_A = final_bias_alpha_0_01 \n",
    "print(trained_weights_A)\n",
    "print(trained_bias_A)"
   ]
  },
  {
   "cell_type": "code",
   "execution_count": 29,
   "id": "8cc23cdf",
   "metadata": {},
   "outputs": [],
   "source": [
    "def test_adaline(test_set, weights, bias):\n",
    "    test_outputs = []\n",
    "    for pattern in test_set:\n",
    "        net = np.dot(pattern, weights) + bias\n",
    "        #print(net)\n",
    "        # Apply the hardlims activation function\n",
    "        if net < 0:\n",
    "            output = -1\n",
    "        else:\n",
    "            output = 1\n",
    "        test_outputs.append(output)\n",
    "    return test_outputs"
   ]
  },
  {
   "cell_type": "markdown",
   "id": "fa0ce5f5",
   "metadata": {},
   "source": [
    "### TSET1 with 'A' Detector Adaline"
   ]
  },
  {
   "cell_type": "code",
   "execution_count": 30,
   "id": "1836470c",
   "metadata": {},
   "outputs": [
    {
     "name": "stdout",
     "output_type": "stream",
     "text": [
      "Adaline outputs for the test set_1_A:\n",
      "[1, 1, 1, 1, 1, -1, -1, -1, -1, -1, -1, -1, -1, -1, -1, -1, -1, -1, -1, -1, -1, -1, -1, -1, -1]\n",
      "Number of correct classficitaions: 25\n",
      "Number of attempted classifications: 25\n",
      "Hit Ratio: 1.0\n",
      "Accuracy: 100.00%\n"
     ]
    }
   ],
   "source": [
    "# Call the test_adaline function to get the adaline outputs\n",
    "test_set_1A_outputs_Ada = test_adaline(test_set1, trained_weights_A, trained_bias_A)\n",
    "\n",
    "# Print the adaline outputs for the test set\n",
    "print(\"Adaline outputs for the test set_1_A:\")\n",
    "print(test_set_1A_outputs_Ada)\n",
    "\n",
    "matches = np.sum(targetsA == test_set_1A_outputs_Ada)\n",
    "print(f\"Number of correct classficitaions: {matches}\")\n",
    "print(f\"Number of attempted classifications: {len(targetsA)}\")\n",
    "Hit_Ratio = matches/len(targetsA)\n",
    "print(f\"Hit Ratio: {Hit_Ratio}\")\n",
    "accuracy = Hit_Ratio * 100\n",
    "print(f\"Accuracy: {accuracy:.2f}%\")"
   ]
  },
  {
   "cell_type": "markdown",
   "id": "955ea423",
   "metadata": {},
   "source": [
    "### TSET2 with 'A' Detector Adaline"
   ]
  },
  {
   "cell_type": "code",
   "execution_count": 31,
   "id": "0de02de1",
   "metadata": {},
   "outputs": [
    {
     "name": "stdout",
     "output_type": "stream",
     "text": [
      "Adaline outputs for the test set_2_A:\n",
      "[1, 1, 1, 1, 1, -1, -1, -1, -1, -1, -1, -1, -1, -1, -1, -1, -1, -1, -1, -1, -1, -1, -1, -1, -1]\n",
      "Number of correct classficitaions: 25\n",
      "Number of attempted classifications: 25\n",
      "Hit Ratio: 1.0\n",
      "Accuracy: 100.00%\n"
     ]
    }
   ],
   "source": [
    "# Call the test_adaline function to get the adaline outputs\n",
    "test_set_2A_outputs_Ada = test_adaline(test_set2, trained_weights_A, trained_bias_A)\n",
    "\n",
    "# Print the adaline outputs for the test set\n",
    "print(\"Adaline outputs for the test set_2_A:\")\n",
    "print(test_set_2A_outputs_Ada)\n",
    "\n",
    "matches = np.sum(targetsA == test_set_2A_outputs_Ada)\n",
    "print(f\"Number of correct classficitaions: {matches}\")\n",
    "print(f\"Number of attempted classifications: {len(targetsA)}\")\n",
    "Hit_Ratio = matches/len(targetsA)\n",
    "print(f\"Hit Ratio: {Hit_Ratio}\")\n",
    "accuracy = Hit_Ratio * 100\n",
    "print(f\"Accuracy: {accuracy:.2f}%\")"
   ]
  },
  {
   "cell_type": "markdown",
   "id": "bb21fa71",
   "metadata": {},
   "source": [
    "### TSET3 with 'A' Detector Adaline"
   ]
  },
  {
   "cell_type": "code",
   "execution_count": 32,
   "id": "efeb11d2",
   "metadata": {},
   "outputs": [
    {
     "name": "stdout",
     "output_type": "stream",
     "text": [
      "Adaline outputs for the test set_3_A:\n",
      "[1, 1, 1, 1, 1, -1, -1, -1, -1, -1, -1, -1, -1, -1, -1, -1, -1, -1, -1, -1, -1, -1, -1, -1, -1]\n",
      "Number of correct classficitaions: 25\n",
      "Number of attempted classifications: 25\n",
      "Hit Ratio: 1.0\n",
      "Accuracy: 100.00%\n"
     ]
    }
   ],
   "source": [
    "# Call the test_adaline function to get the adaline outputs\n",
    "test_set_3A_outputs_Ada = test_adaline(test_set3, trained_weights_A, trained_bias_A)\n",
    "\n",
    "# Print the adaline outputs for the test set\n",
    "print(\"Adaline outputs for the test set_3_A:\")\n",
    "print(test_set_3A_outputs_Ada)\n",
    "\n",
    "matches = np.sum(targetsA == test_set_3A_outputs_Ada)\n",
    "print(f\"Number of correct classficitaions: {matches}\")\n",
    "print(f\"Number of attempted classifications: {len(targetsA)}\")\n",
    "Hit_Ratio = matches/len(targetsA)\n",
    "print(f\"Hit Ratio: {Hit_Ratio}\")\n",
    "accuracy = Hit_Ratio * 100\n",
    "print(f\"Accuracy: {accuracy:.2f}%\")"
   ]
  },
  {
   "cell_type": "markdown",
   "id": "766bfceb",
   "metadata": {},
   "source": [
    "### Testing 'A' detector Adaline with 25 Training Patterns"
   ]
  },
  {
   "cell_type": "code",
   "execution_count": 46,
   "id": "b5e03701",
   "metadata": {},
   "outputs": [
    {
     "name": "stdout",
     "output_type": "stream",
     "text": [
      "Adaline outputs for the training_patterns_A_Ada:\n",
      "[1, 1, 1, 1, 1, -1, -1, -1, -1, -1, -1, -1, -1, -1, -1, -1, -1, -1, -1, -1, -1, -1, -1, -1, -1]\n",
      "Number of correct classficitaions: 25\n",
      "Number of attempted classifications: 25\n",
      "Hit Ratio: 1.0\n",
      "Accuracy: 100.00%\n"
     ]
    }
   ],
   "source": [
    "# Call the test_adaline function to get the adaline outputs\n",
    "training_patterns_A_Ada = test_adaline(input_patterns, trained_weights_A, trained_bias_A)\n",
    "\n",
    "# Print the adaline outputs for the training patterns\n",
    "print(\"Adaline outputs for the training_patterns_A_Ada:\")\n",
    "print(training_patterns_A_Ada)\n",
    "\n",
    "matches = np.sum(targetsA == training_patterns_A_Ada)\n",
    "print(f\"Number of correct classficitaions: {matches}\")\n",
    "print(f\"Number of attempted classifications: {len(targetsA)}\")\n",
    "Hit_Ratio = matches/len(targetsA)\n",
    "print(f\"Hit Ratio: {Hit_Ratio}\")\n",
    "accuracy = Hit_Ratio * 100\n",
    "print(f\"Accuracy: {accuracy:.2f}%\")"
   ]
  },
  {
   "cell_type": "markdown",
   "id": "5894d074",
   "metadata": {},
   "source": [
    "## II.2 “E DETECTOR”\n",
    "### Training 'E' Detector Adaline"
   ]
  },
  {
   "cell_type": "code",
   "execution_count": 49,
   "id": "fabf06ec",
   "metadata": {},
   "outputs": [
    {
     "name": "stdout",
     "output_type": "stream",
     "text": [
      "OBSERVATIONS FOR ALPHA_1: 0.1\n",
      "Epoch 1: MSE = 1834573856139.0762\n",
      "Epoch 2: MSE = 1.0076264680312522e+25\n",
      "Epoch 3: MSE = 5.534587734272418e+37\n",
      "Epoch 4: MSE = 3.039981805742235e+50\n",
      "Epoch 5: MSE = 1.6697701478320317e+63\n",
      "Epoch 6: MSE = 9.17154287346224e+75\n",
      "Epoch 7: MSE = 5.03765136710406e+88\n",
      "Epoch 8: MSE = 2.7670296750087875e+101\n",
      "Epoch 9: MSE = 1.5198457901187845e+114\n",
      "Epoch 10: MSE = 8.348053678659813e+126\n",
      "Epoch 11: MSE = 4.5853336354827683e+139\n",
      "Epoch 12: MSE = 2.518585212555193e+152\n",
      "Epoch 13: MSE = 1.3833827540520647e+165\n",
      "Epoch 14: MSE = 7.598503456101463e+177\n",
      "Epoch 15: MSE = 4.173628347127212e+190\n",
      "Epoch 16: MSE = 2.2924479380155425e+203\n",
      "Epoch 17: MSE = 1.2591723822580094e+216\n",
      "Epoch 18: MSE = 6.916253416048374e+228\n",
      "Epoch 19: MSE = 3.798889015435801e+241\n",
      "Epoch 20: MSE = 2.0866149464841795e+254\n",
      "Epoch 21: MSE = 1.1461145395930183e+267\n",
      "Epoch 22: MSE = 6.295260848580686e+279\n",
      "Epoch 23: MSE = 3.4577965624400424e+292\n",
      "Epoch 24: MSE = 1.899263168724422e+305\n",
      "Epoch 25: MSE = inf\n",
      "OBSERVATIONS FOR ALPHA_2: 0.001\n",
      "Epoch 1: MSE = 0.95807 ; W1 = 0.0041, W2 = 0.0084, W3 = -0.0102, W4 = -0.0141; bias = -0.0303 \n",
      "Epoch 2: MSE = 0.83701 ; W1 = 0.0109, W2 = 0.0193, W3 = -0.0172, W4 = -0.0247; bias = -0.0563 \n",
      "Epoch 3: MSE = 0.74164 ; W1 = 0.0192, W2 = 0.0316, W3 = -0.0221, W4 = -0.0329; bias = -0.0791 \n",
      "Epoch 4: MSE = 0.66149 ; W1 = 0.0281, W2 = 0.0443, W3 = -0.0256, W4 = -0.0393; bias = -0.0994 \n",
      "Epoch 5: MSE = 0.59199 ; W1 = 0.0373, W2 = 0.0571, W3 = -0.0280, W4 = -0.0445; bias = -0.1178 \n",
      "Epoch 6: MSE = 0.53090 ; W1 = 0.0463, W2 = 0.0697, W3 = -0.0297, W4 = -0.0487; bias = -0.1345 \n",
      "Epoch 7: MSE = 0.47695 ; W1 = 0.0550, W2 = 0.0818, W3 = -0.0309, W4 = -0.0523; bias = -0.1499 \n",
      "Epoch 8: MSE = 0.42923 ; W1 = 0.0634, W2 = 0.0934, W3 = -0.0318, W4 = -0.0553; bias = -0.1642 \n",
      "Epoch 9: MSE = 0.38702 ; W1 = 0.0713, W2 = 0.1046, W3 = -0.0325, W4 = -0.0579; bias = -0.1775 \n",
      "Epoch 10: MSE = 0.34970 ; W1 = 0.0787, W2 = 0.1151, W3 = -0.0329, W4 = -0.0602; bias = -0.1898 \n",
      "Epoch 11: MSE = 0.31671 ; W1 = 0.0857, W2 = 0.1251, W3 = -0.0332, W4 = -0.0621; bias = -0.2014 \n",
      "Epoch 12: MSE = 0.28756 ; W1 = 0.0923, W2 = 0.1346, W3 = -0.0334, W4 = -0.0638; bias = -0.2122 \n",
      "Epoch 13: MSE = 0.26179 ; W1 = 0.0984, W2 = 0.1435, W3 = -0.0336, W4 = -0.0653; bias = -0.2223 \n",
      "Epoch 14: MSE = 0.23901 ; W1 = 0.1041, W2 = 0.1520, W3 = -0.0337, W4 = -0.0666; bias = -0.2319 \n",
      "Epoch 15: MSE = 0.21887 ; W1 = 0.1094, W2 = 0.1600, W3 = -0.0337, W4 = -0.0678; bias = -0.2409 \n",
      "Epoch 16: MSE = 0.20105 ; W1 = 0.1144, W2 = 0.1676, W3 = -0.0337, W4 = -0.0688; bias = -0.2494 \n",
      "Epoch 17: MSE = 0.18528 ; W1 = 0.1190, W2 = 0.1747, W3 = -0.0337, W4 = -0.0697; bias = -0.2574 \n",
      "Epoch 18: MSE = 0.17132 ; W1 = 0.1233, W2 = 0.1815, W3 = -0.0337, W4 = -0.0704; bias = -0.2649 \n",
      "Epoch 19: MSE = 0.15894 ; W1 = 0.1273, W2 = 0.1879, W3 = -0.0337, W4 = -0.0711; bias = -0.2721 \n",
      "Epoch 20: MSE = 0.14797 ; W1 = 0.1310, W2 = 0.1940, W3 = -0.0336, W4 = -0.0717; bias = -0.2788 \n",
      "Epoch 21: MSE = 0.13824 ; W1 = 0.1344, W2 = 0.1998, W3 = -0.0336, W4 = -0.0722; bias = -0.2852 \n",
      "Epoch 22: MSE = 0.12959 ; W1 = 0.1376, W2 = 0.2052, W3 = -0.0335, W4 = -0.0726; bias = -0.2913 \n",
      "Epoch 23: MSE = 0.12190 ; W1 = 0.1405, W2 = 0.2104, W3 = -0.0335, W4 = -0.0729; bias = -0.2970 \n",
      "Epoch 24: MSE = 0.11505 ; W1 = 0.1432, W2 = 0.2153, W3 = -0.0334, W4 = -0.0732; bias = -0.3025 \n",
      "Epoch 25: MSE = 0.10895 ; W1 = 0.1458, W2 = 0.2200, W3 = -0.0333, W4 = -0.0734; bias = -0.3077 \n",
      "OBSERVATIONS FOR ALPHA_3: 0.0001\n",
      "Epoch 1: MSE = 0.99668 ; W1 = 0.0006, W2 = 0.0010, W3 = -0.0010, W4 = -0.0014; bias = -0.0030 \n",
      "Epoch 2: MSE = 0.98212 ; W1 = 0.0012, W2 = 0.0020, W3 = -0.0020, W4 = -0.0028; bias = -0.0060 \n",
      "Epoch 3: MSE = 0.96799 ; W1 = 0.0018, W2 = 0.0030, W3 = -0.0029, W4 = -0.0041; bias = -0.0089 \n",
      "Epoch 4: MSE = 0.95425 ; W1 = 0.0025, W2 = 0.0041, W3 = -0.0038, W4 = -0.0054; bias = -0.0118 \n",
      "Epoch 5: MSE = 0.94088 ; W1 = 0.0031, W2 = 0.0051, W3 = -0.0047, W4 = -0.0067; bias = -0.0146 \n",
      "Epoch 6: MSE = 0.92787 ; W1 = 0.0038, W2 = 0.0062, W3 = -0.0055, W4 = -0.0079; bias = -0.0174 \n",
      "Epoch 7: MSE = 0.91520 ; W1 = 0.0045, W2 = 0.0073, W3 = -0.0064, W4 = -0.0091; bias = -0.0202 \n",
      "Epoch 8: MSE = 0.90283 ; W1 = 0.0053, W2 = 0.0085, W3 = -0.0071, W4 = -0.0103; bias = -0.0229 \n",
      "Epoch 9: MSE = 0.89077 ; W1 = 0.0060, W2 = 0.0096, W3 = -0.0079, W4 = -0.0114; bias = -0.0256 \n",
      "Epoch 10: MSE = 0.87900 ; W1 = 0.0068, W2 = 0.0108, W3 = -0.0086, W4 = -0.0125; bias = -0.0282 \n",
      "Epoch 11: MSE = 0.86749 ; W1 = 0.0076, W2 = 0.0119, W3 = -0.0094, W4 = -0.0136; bias = -0.0308 \n",
      "Epoch 12: MSE = 0.85624 ; W1 = 0.0084, W2 = 0.0131, W3 = -0.0100, W4 = -0.0146; bias = -0.0334 \n",
      "Epoch 13: MSE = 0.84524 ; W1 = 0.0092, W2 = 0.0143, W3 = -0.0107, W4 = -0.0157; bias = -0.0360 \n",
      "Epoch 14: MSE = 0.83447 ; W1 = 0.0100, W2 = 0.0155, W3 = -0.0114, W4 = -0.0167; bias = -0.0385 \n",
      "Epoch 15: MSE = 0.82392 ; W1 = 0.0108, W2 = 0.0167, W3 = -0.0120, W4 = -0.0177; bias = -0.0410 \n",
      "Epoch 16: MSE = 0.81358 ; W1 = 0.0117, W2 = 0.0180, W3 = -0.0126, W4 = -0.0186; bias = -0.0434 \n",
      "Epoch 17: MSE = 0.80345 ; W1 = 0.0125, W2 = 0.0192, W3 = -0.0132, W4 = -0.0195; bias = -0.0458 \n",
      "Epoch 18: MSE = 0.79351 ; W1 = 0.0134, W2 = 0.0204, W3 = -0.0137, W4 = -0.0205; bias = -0.0482 \n",
      "Epoch 19: MSE = 0.78376 ; W1 = 0.0143, W2 = 0.0217, W3 = -0.0143, W4 = -0.0214; bias = -0.0506 \n",
      "Epoch 20: MSE = 0.77419 ; W1 = 0.0152, W2 = 0.0229, W3 = -0.0148, W4 = -0.0222; bias = -0.0530 \n",
      "Epoch 21: MSE = 0.76480 ; W1 = 0.0160, W2 = 0.0242, W3 = -0.0153, W4 = -0.0231; bias = -0.0553 \n",
      "Epoch 22: MSE = 0.75557 ; W1 = 0.0169, W2 = 0.0255, W3 = -0.0158, W4 = -0.0239; bias = -0.0576 \n",
      "Epoch 23: MSE = 0.74650 ; W1 = 0.0178, W2 = 0.0268, W3 = -0.0163, W4 = -0.0247; bias = -0.0598 \n",
      "Epoch 24: MSE = 0.73758 ; W1 = 0.0187, W2 = 0.0280, W3 = -0.0168, W4 = -0.0255; bias = -0.0621 \n",
      "Epoch 25: MSE = 0.72882 ; W1 = 0.0197, W2 = 0.0293, W3 = -0.0172, W4 = -0.0263; bias = -0.0643 \n",
      "Final Weights for alpha = 0.001: ['0.1458', '0.2200', '-0.0333', '-0.0734', '0.0462', '0.0640', '0.2684', '-0.0543', '-0.1099', '-0.0208', '0.1298', '-0.0941', '0.1021', '0.0210', '0.0053', '-0.0929', '0.2200', '-0.1298', '-0.2839', '-0.0333']\n",
      "Final Bias for alpha = 0.001: -0.3077\n"
     ]
    }
   ],
   "source": [
    "# Initialize weights and bias to zero\n",
    "weights = np.zeros(input_patterns.shape[1])\n",
    "bias = 0\n",
    "\n",
    "# Define the learning rates (alphas)\n",
    "alpha_values = [0.1, 0.001, 0.0001]\n",
    "\n",
    "# Maximum number of training epochs\n",
    "max_epochs = 25\n",
    "t = 0    \n",
    "\n",
    "# Initialize dictionaries to track Mean Squared Error and weights for each alpha\n",
    "mse_alpha = {}\n",
    "bias_alpha = {}\n",
    "w1_alpha = {}\n",
    "w2_alpha = {}\n",
    "w3_alpha = {}\n",
    "w4_alpha = {}\n",
    "\n",
    "# Filter all warnings\n",
    "warnings.filterwarnings(\"ignore\")\n",
    "\n",
    "# Adaline training algorithm\n",
    "for alpha in alpha_values:\n",
    "    # Initialize weights and bias to zero for each alpha\n",
    "    weights = np.zeros(input_patterns.shape[1])\n",
    "    bias = 0\n",
    "    t += 1\n",
    "    print(f\"OBSERVATIONS FOR ALPHA_{t}: {alpha}\")\n",
    "    mse_values = []\n",
    "    bias_values = []\n",
    "    w1_values = []\n",
    "    w2_values = []\n",
    "    w3_values = []\n",
    "    w4_values = []\n",
    "\n",
    "    for epoch in range(max_epochs):\n",
    "        mse = 0  # Initialize MSE for this epoch\n",
    "        for i, pattern in enumerate(input_patterns):\n",
    "            net = np.dot(pattern, weights) + bias\n",
    "            error = targetsE[i] - net\n",
    "            a = net  # Linear activation function\n",
    "            weights = weights + (2 * alpha * error * pattern)  # Update weights\n",
    "            bias = bias + (2 * alpha * error)  # Update bias\n",
    "            mse = mse + (error ** 2)  # Accumulate squared error\n",
    "        mse_values.append(mse / len(input_patterns))  # Calculate and save the average MSE\n",
    "        bias_values.append(bias)\n",
    "        w1_values.append(weights[0])\n",
    "        w2_values.append(weights[1])\n",
    "        w3_values.append(weights[2])\n",
    "        w4_values.append(weights[3])\n",
    "        \n",
    "        if alpha == 0.001:\n",
    "            final_weights_alpha_0_001 = weights\n",
    "            final_bias_alpha_0_001 = bias\n",
    "        if alpha != 0.1:\n",
    "            print(f\"Epoch {epoch + 1}: MSE = {mse_values[-1]:.5f} ; W1 = {weights[0]:.4f}, W2 = {weights[1]:.4f}, W3 = {weights[2]:.4f}, W4 = {weights[3]:.4f}; bias = {bias:.4f} \")\n",
    "        else:\n",
    "            print(f\"Epoch {epoch + 1}: MSE = {mse_values[-1]}\")\n",
    "    # Store the results for the current alpha\n",
    "    mse_alpha[alpha] = mse_values\n",
    "    bias_alpha[alpha] = bias_values\n",
    "    w1_alpha[alpha] = w1_values\n",
    "    w2_alpha[alpha] = w2_values\n",
    "    w3_alpha[alpha] = w3_values\n",
    "    w4_alpha[alpha] = w4_values\n",
    "\n",
    "\n",
    "   \n",
    " # Print the final weights for alpha = 0.001\n",
    "print(\"Final Weights for alpha = 0.001:\", [f\"{w:.4f}\" for w in final_weights_alpha_0_001])\n",
    "print(\"Final Bias for alpha = 0.001:\", f\"{final_bias_alpha_0_001:.4f}\")\n"
   ]
  },
  {
   "cell_type": "code",
   "execution_count": 34,
   "id": "fb1ed82a",
   "metadata": {},
   "outputs": [
    {
     "data": {
      "image/png": "[encoded data removed]",
      "text/plain": [
       "<Figure size 864x288 with 2 Axes>"
      ]
     },
     "metadata": {
      "needs_background": "light"
     },
     "output_type": "display_data"
    },
    {
     "data": {
      "image/png": "[encoded data removed]",
      "text/plain": [
       "<Figure size 864x288 with 2 Axes>"
      ]
     },
     "metadata": {
      "needs_background": "light"
     },
     "output_type": "display_data"
    },
    {
     "data": {
      "image/png": "[encoded data removed]",
      "text/plain": [
       "<Figure size 864x288 with 2 Axes>"
      ]
     },
     "metadata": {
      "needs_background": "light"
     },
     "output_type": "display_data"
    }
   ],
   "source": [
    "# Plot the values of bias, w1, w2, w3, and w4 vs. epoch for each alpha\n",
    "for alpha in alpha_values:\n",
    "    plt.figure(figsize=(12, 4))\n",
    "    plt.subplot(1, 2, 1)\n",
    "    plt.plot(range(len(mse_alpha[alpha])), mse_alpha[alpha], label='MSE')\n",
    "    plt.xlabel(\"Epoch\")\n",
    "    plt.ylabel(\"MSE\")\n",
    "    plt.title(f\"Alpha = {alpha}\")\n",
    "    plt.legend()\n",
    "\n",
    "    plt.subplot(1, 2, 2)\n",
    "    plt.plot(range(len(bias_alpha[alpha])), bias_alpha[alpha], label='Bias')\n",
    "    plt.plot(range(len(w1_alpha[alpha])), w1_alpha[alpha], label='w1')\n",
    "    plt.plot(range(len(w2_alpha[alpha])), w2_alpha[alpha], label='w2')\n",
    "    plt.plot(range(len(w3_alpha[alpha])), w3_alpha[alpha], label='w3')\n",
    "    plt.plot(range(len(w4_alpha[alpha])), w4_alpha[alpha], label='w4')\n",
    "    plt.xlabel(\"Epoch\")\n",
    "    plt.title(f\"Bias and Weights (w1, w2, w3, w4) - Alpha = {alpha}\")\n",
    "    plt.legend()\n",
    "\n",
    "plt.show()"
   ]
  },
  {
   "cell_type": "markdown",
   "id": "f702f882",
   "metadata": {},
   "source": [
    "## Testing 'E' Detector Adaline with best tranied weights when Alpha = 0.001"
   ]
  },
  {
   "cell_type": "code",
   "execution_count": 35,
   "id": "b26fc9b5",
   "metadata": {},
   "outputs": [
    {
     "name": "stdout",
     "output_type": "stream",
     "text": [
      "[ 0.14576987  0.22000851 -0.03334498 -0.07340166  0.04617479  0.06400435\n",
      "  0.26843078 -0.05431692 -0.10991542 -0.02079806  0.12980594 -0.09405627\n",
      "  0.10212764  0.02104366  0.00526549 -0.09286934  0.22000851 -0.12980594\n",
      " -0.28391449 -0.03334498]\n",
      "-0.30767040851265054\n"
     ]
    }
   ],
   "source": [
    "#final trained weights and bias\n",
    "trained_weights_E = final_weights_alpha_0_001 \n",
    "trained_bias_E = final_bias_alpha_0_001 \n",
    "print(trained_weights_E)\n",
    "print(trained_bias_E)\n"
   ]
  },
  {
   "cell_type": "markdown",
   "id": "51423698",
   "metadata": {},
   "source": [
    "### TSET1 with 'E' Detector Adaline"
   ]
  },
  {
   "cell_type": "code",
   "execution_count": 36,
   "id": "bda6c899",
   "metadata": {},
   "outputs": [
    {
     "name": "stdout",
     "output_type": "stream",
     "text": [
      "Adaline outputs for the test set_1_E:\n",
      "[-1, -1, -1, -1, -1, 1, 1, 1, 1, 1, -1, -1, -1, -1, -1, -1, -1, -1, -1, -1, -1, -1, -1, -1, -1]\n",
      "Number of correct classficitaions: 25\n",
      "Number of attempted classifications: 25\n",
      "Hit Ratio: 1.0\n",
      "Accuracy: 100.00%\n"
     ]
    }
   ],
   "source": [
    "# Call the test_adaline function to get the adaline outputs\n",
    "test_set_1E_outputs_Ada = test_adaline(test_set1, trained_weights_E, trained_bias_E)\n",
    "\n",
    "# Print the adaline outputs for the test set\n",
    "print(\"Adaline outputs for the test set_1_E:\")\n",
    "print(test_set_1E_outputs_Ada)\n",
    "\n",
    "matches = np.sum(targetsE == test_set_1E_outputs_Ada)\n",
    "print(f\"Number of correct classficitaions: {matches}\")\n",
    "print(f\"Number of attempted classifications: {len(targetsE)}\")\n",
    "Hit_Ratio = matches/len(targetsE)\n",
    "print(f\"Hit Ratio: {Hit_Ratio}\")\n",
    "accuracy = Hit_Ratio * 100\n",
    "print(f\"Accuracy: {accuracy:.2f}%\")"
   ]
  },
  {
   "cell_type": "markdown",
   "id": "ca0c8252",
   "metadata": {},
   "source": [
    "### TSET2 with 'E' Detector Adaline"
   ]
  },
  {
   "cell_type": "code",
   "execution_count": 37,
   "id": "26afd79d",
   "metadata": {},
   "outputs": [
    {
     "name": "stdout",
     "output_type": "stream",
     "text": [
      "Adaline outputs for the test set_2_E:\n",
      "[-1, -1, -1, -1, -1, 1, 1, 1, 1, 1, -1, -1, -1, -1, -1, -1, -1, -1, -1, -1, -1, -1, -1, -1, -1]\n",
      "Number of correct classficitaions: 25\n",
      "Number of attempted classifications: 25\n",
      "Hit Ratio: 1.0\n",
      "Accuracy: 100.00%\n"
     ]
    }
   ],
   "source": [
    "# Call the test_adaline function to get the adaline outputs\n",
    "test_set_2E_outputs_Ada = test_adaline(test_set2, trained_weights_E, trained_bias_E)\n",
    "\n",
    "# Print the adaline outputs for the test set\n",
    "print(\"Adaline outputs for the test set_2_E:\")\n",
    "print(test_set_2E_outputs_Ada)\n",
    "\n",
    "matches = np.sum(targetsE == test_set_2E_outputs_Ada)\n",
    "print(f\"Number of correct classficitaions: {matches}\")\n",
    "print(f\"Number of attempted classifications: {len(targetsE)}\")\n",
    "Hit_Ratio = matches/len(targetsE)\n",
    "print(f\"Hit Ratio: {Hit_Ratio}\")\n",
    "accuracy = Hit_Ratio * 100\n",
    "print(f\"Accuracy: {accuracy:.2f}%\")"
   ]
  },
  {
   "cell_type": "markdown",
   "id": "bd2ec3dd",
   "metadata": {},
   "source": [
    "### TSET3 with 'E' Detector Adaline"
   ]
  },
  {
   "cell_type": "code",
   "execution_count": 38,
   "id": "f2d009de",
   "metadata": {},
   "outputs": [
    {
     "name": "stdout",
     "output_type": "stream",
     "text": [
      "Adaline outputs for the test set_3_E:\n",
      "[-1, -1, -1, -1, 1, 1, 1, 1, 1, 1, -1, -1, -1, -1, -1, -1, -1, -1, -1, -1, -1, -1, -1, -1, -1]\n",
      "Number of correct classficitaions: 24\n",
      "Number of attempted classifications: 25\n",
      "Hit Ratio: 0.96\n",
      "Accuracy: 96.00%\n"
     ]
    }
   ],
   "source": [
    "# Call the test_adaline function to get the adaline outputs\n",
    "test_set_3E_outputs_Ada = test_adaline(test_set3, trained_weights_E, trained_bias_E)\n",
    "\n",
    "# Print the adaline outputs for the test set\n",
    "print(\"Adaline outputs for the test set_3_E:\")\n",
    "print(test_set_3E_outputs_Ada)\n",
    "\n",
    "matches = np.sum(targetsE == test_set_3E_outputs_Ada)\n",
    "print(f\"Number of correct classficitaions: {matches}\")\n",
    "print(f\"Number of attempted classifications: {len(targetsE)}\")\n",
    "Hit_Ratio = matches/len(targetsE)\n",
    "print(f\"Hit Ratio: {Hit_Ratio}\")\n",
    "accuracy = Hit_Ratio * 100\n",
    "print(f\"Accuracy: {accuracy:.2f}%\")"
   ]
  },
  {
   "cell_type": "markdown",
   "id": "d823d13c",
   "metadata": {},
   "source": [
    "### Testing 'E' detector Adaline with 25 Training Patterns"
   ]
  },
  {
   "cell_type": "code",
   "execution_count": 47,
   "id": "b9bb4ac4",
   "metadata": {},
   "outputs": [
    {
     "name": "stdout",
     "output_type": "stream",
     "text": [
      "Adaline outputs for the training_patterns_E_Ada:\n",
      "[-1, -1, -1, -1, -1, 1, 1, 1, 1, 1, -1, -1, -1, -1, -1, -1, -1, -1, -1, -1, -1, -1, -1, -1, -1]\n",
      "Number of correct classficitaions: 25\n",
      "Number of attempted classifications: 25\n",
      "Hit Ratio: 1.0\n",
      "Accuracy: 100.00%\n"
     ]
    }
   ],
   "source": [
    "# Call the test_adaline function to get the adaline outputs\n",
    "training_patterns_E_Ada = test_adaline(input_patterns, trained_weights_E, trained_bias_E)\n",
    "\n",
    "# Print the adaline outputs for the training patterns\n",
    "print(\"Adaline outputs for the training_patterns_E_Ada:\")\n",
    "print(training_patterns_E_Ada)\n",
    "\n",
    "matches = np.sum(targetsE == training_patterns_E_Ada)\n",
    "print(f\"Number of correct classficitaions: {matches}\")\n",
    "print(f\"Number of attempted classifications: {len(targetsE)}\")\n",
    "Hit_Ratio = matches/len(targetsE)\n",
    "print(f\"Hit Ratio: {Hit_Ratio}\")\n",
    "accuracy = Hit_Ratio * 100\n",
    "print(f\"Accuracy: {accuracy:.2f}%\")"
   ]
  },
  {
   "cell_type": "code",
   "execution_count": null,
   "id": "d9be124f",
   "metadata": {},
   "outputs": [],
   "source": []
  }
 ],
 "metadata": {
  "kernelspec": {
   "display_name": "Python 3 (ipykernel)",
   "language": "python",
   "name": "python3"
  },
  "language_info": {
   "codemirror_mode": {
    "name": "ipython",
    "version": 3
   },
   "file_extension": ".py",
   "mimetype": "text/x-python",
   "name": "python",
   "nbconvert_exporter": "python",
   "pygments_lexer": "ipython3",
   "version": "3.9.12"
  }
 },
 "nbformat": 4,
 "nbformat_minor": 5
}
